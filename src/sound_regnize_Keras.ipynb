{
 "cells": [
  {
   "cell_type": "code",
   "execution_count": 1,
   "metadata": {
    "colab": {
     "base_uri": "https://localhost:8080/",
     "height": 71
    },
    "colab_type": "code",
    "id": "FIUhv3GI8FOF",
    "outputId": "5adb2545-0d54-4494-c1bb-6fbb9f69ed45"
   },
   "outputs": [
    {
     "name": "stdout",
     "output_type": "stream",
     "text": [
      "['filename', 'chroma_stft', 'rmse', 'spectral_centroid', 'spectral_bandwidth', 'rolloff', 'zero_crossing_rate', 'mfcc1', 'mfcc2', 'mfcc3', 'mfcc4', 'mfcc5', 'mfcc6', 'mfcc7', 'mfcc8', 'mfcc9', 'mfcc10', 'mfcc11', 'mfcc12', 'mfcc13', 'mfcc14', 'mfcc15', 'mfcc16', 'mfcc17', 'mfcc18', 'mfcc19', 'mfcc20', 'label']\n"
     ]
    },
    {
     "data": {
      "text/plain": [
       "0"
      ]
     },
     "execution_count": 1,
     "metadata": {},
     "output_type": "execute_result"
    }
   ],
   "source": [
    "import matplotlib.pyplot as plt\n",
    "import numpy as np\n",
    "from matplotlib import cm\n",
    "import librosa\n",
    "import csv\n",
    "import os\n",
    "\n",
    "# MAIN\n",
    "#\n",
    "def main():\n",
    "    # Initial Parameters\n",
    "    lr = 0.001\n",
    "    iterations_train = 50\n",
    "    bsize = 64\n",
    "    audio_features = 20  \n",
    "    utterance_length = 35  # Modify to see what different results you can get\n",
    "    ndigits = 10\n",
    "\n",
    "    # Get training data\n",
    "    file_path = \"../data/recordings/train/8_theo_20.wav\"\n",
    "    files_path = \"../data/recordings/train\"\n",
    "    raw_w, sr = librosa.load(file_path, mono=True)\n",
    "\n",
    "   \n",
    "\n",
    "# Creating Dataset\n",
    "\n",
    "    header = 'filename chroma_stft rmse spectral_centroid spectral_bandwidth rolloff zero_crossing_rate'\n",
    "    for i in range(1, 21):\n",
    "      header += f' mfcc{i}'\n",
    "    header += ' label'\n",
    "    header = header.split()\n",
    "    print(header)\n",
    "    file = open('data.csv', 'w', newline='')\n",
    "    with file:\n",
    "      writer = csv.writer(file)\n",
    "      writer.writerow(header)\n",
    "    genres = '1 2 3 4 5 6 7 8 9 0'.split()\n",
    "    for filename in os.listdir(files_path):\n",
    "        number = f'{files_path}/{filename}'\n",
    "        y, sr = librosa.load(number, mono=True, duration=30)\n",
    "        chroma_stft = librosa.feature.chroma_stft(y=y, sr=sr)\n",
    "        rmse = librosa.feature.rms(y=y)\n",
    "        spec_cent = librosa.feature.spectral_centroid(y=y, sr=sr)\n",
    "        spec_bw = librosa.feature.spectral_bandwidth(y=y, sr=sr)\n",
    "        rolloff = librosa.feature.spectral_rolloff(y=y, sr=sr)\n",
    "        zcr = librosa.feature.zero_crossing_rate(y)\n",
    "        mfcc = librosa.feature.mfcc(y=y, sr=sr)\n",
    "        to_append = f'{filename} {np.mean(chroma_stft)} {np.mean(rmse)} {np.mean(spec_cent)} {np.mean(spec_bw)} {np.mean(rolloff)} {np.mean(zcr)}'\n",
    "        for e in mfcc:\n",
    "            to_append += f' {np.mean(e)}'\n",
    "        file = open('data.csv', 'a', newline='')\n",
    "        with file:\n",
    "            writer = csv.writer(file)\n",
    "            writer.writerow(to_append.split())\n",
    "    return 0\n",
    "main()\n"
   ]
  },
  {
   "cell_type": "code",
   "execution_count": 2,
   "metadata": {
    "colab": {
     "base_uri": "https://localhost:8080/",
     "height": 223
    },
    "colab_type": "code",
    "id": "_TZXrWYiNqCj",
    "outputId": "7d1d926e-64fa-4855-df66-207a97778915"
   },
   "outputs": [
    {
     "data": {
      "text/html": [
       "<div>\n",
       "<style scoped>\n",
       "    .dataframe tbody tr th:only-of-type {\n",
       "        vertical-align: middle;\n",
       "    }\n",
       "\n",
       "    .dataframe tbody tr th {\n",
       "        vertical-align: top;\n",
       "    }\n",
       "\n",
       "    .dataframe thead th {\n",
       "        text-align: right;\n",
       "    }\n",
       "</style>\n",
       "<table border=\"1\" class=\"dataframe\">\n",
       "  <thead>\n",
       "    <tr style=\"text-align: right;\">\n",
       "      <th></th>\n",
       "      <th>filename</th>\n",
       "      <th>chroma_stft</th>\n",
       "      <th>rmse</th>\n",
       "      <th>spectral_centroid</th>\n",
       "      <th>spectral_bandwidth</th>\n",
       "      <th>rolloff</th>\n",
       "      <th>zero_crossing_rate</th>\n",
       "      <th>mfcc1</th>\n",
       "      <th>mfcc2</th>\n",
       "      <th>mfcc3</th>\n",
       "      <th>...</th>\n",
       "      <th>mfcc13</th>\n",
       "      <th>mfcc14</th>\n",
       "      <th>mfcc15</th>\n",
       "      <th>mfcc16</th>\n",
       "      <th>mfcc17</th>\n",
       "      <th>mfcc18</th>\n",
       "      <th>mfcc19</th>\n",
       "      <th>mfcc20</th>\n",
       "      <th>label</th>\n",
       "      <th>number</th>\n",
       "    </tr>\n",
       "  </thead>\n",
       "  <tbody>\n",
       "    <tr>\n",
       "      <th>0</th>\n",
       "      <td>0_jackson_0.wav</td>\n",
       "      <td>0.241461</td>\n",
       "      <td>0.112672</td>\n",
       "      <td>741.829081</td>\n",
       "      <td>758.492178</td>\n",
       "      <td>1438.494873</td>\n",
       "      <td>0.034023</td>\n",
       "      <td>-295.578461</td>\n",
       "      <td>189.853683</td>\n",
       "      <td>-19.606564</td>\n",
       "      <td>...</td>\n",
       "      <td>-5.172223</td>\n",
       "      <td>-8.323026</td>\n",
       "      <td>-10.299589</td>\n",
       "      <td>-0.144793</td>\n",
       "      <td>-9.017329</td>\n",
       "      <td>-4.569392</td>\n",
       "      <td>2.881349</td>\n",
       "      <td>-15.627436</td>\n",
       "      <td>NaN</td>\n",
       "      <td>0</td>\n",
       "    </tr>\n",
       "    <tr>\n",
       "      <th>1</th>\n",
       "      <td>0_jackson_1.wav</td>\n",
       "      <td>0.238694</td>\n",
       "      <td>0.090344</td>\n",
       "      <td>635.610880</td>\n",
       "      <td>670.336296</td>\n",
       "      <td>1160.452403</td>\n",
       "      <td>0.033458</td>\n",
       "      <td>-339.148743</td>\n",
       "      <td>204.005249</td>\n",
       "      <td>-7.485526</td>\n",
       "      <td>...</td>\n",
       "      <td>-1.290891</td>\n",
       "      <td>-5.515564</td>\n",
       "      <td>-15.416287</td>\n",
       "      <td>0.405876</td>\n",
       "      <td>-3.624587</td>\n",
       "      <td>-11.204143</td>\n",
       "      <td>-0.096359</td>\n",
       "      <td>-6.751650</td>\n",
       "      <td>NaN</td>\n",
       "      <td>0</td>\n",
       "    </tr>\n",
       "    <tr>\n",
       "      <th>2</th>\n",
       "      <td>0_jackson_10.wav</td>\n",
       "      <td>0.245599</td>\n",
       "      <td>0.091456</td>\n",
       "      <td>667.786694</td>\n",
       "      <td>732.606545</td>\n",
       "      <td>1257.180176</td>\n",
       "      <td>0.033268</td>\n",
       "      <td>-327.507416</td>\n",
       "      <td>195.596924</td>\n",
       "      <td>-3.994768</td>\n",
       "      <td>...</td>\n",
       "      <td>-3.098450</td>\n",
       "      <td>-10.447586</td>\n",
       "      <td>-10.053793</td>\n",
       "      <td>3.248016</td>\n",
       "      <td>-11.686995</td>\n",
       "      <td>-10.726046</td>\n",
       "      <td>6.857377</td>\n",
       "      <td>-9.067446</td>\n",
       "      <td>NaN</td>\n",
       "      <td>0</td>\n",
       "    </tr>\n",
       "    <tr>\n",
       "      <th>3</th>\n",
       "      <td>0_jackson_11.wav</td>\n",
       "      <td>0.261694</td>\n",
       "      <td>0.087751</td>\n",
       "      <td>712.304185</td>\n",
       "      <td>731.292437</td>\n",
       "      <td>1449.104818</td>\n",
       "      <td>0.035916</td>\n",
       "      <td>-320.809937</td>\n",
       "      <td>200.023743</td>\n",
       "      <td>-8.186146</td>\n",
       "      <td>...</td>\n",
       "      <td>-1.118007</td>\n",
       "      <td>-6.681235</td>\n",
       "      <td>-11.685319</td>\n",
       "      <td>2.010999</td>\n",
       "      <td>-5.946658</td>\n",
       "      <td>-6.905020</td>\n",
       "      <td>4.136240</td>\n",
       "      <td>-9.614882</td>\n",
       "      <td>NaN</td>\n",
       "      <td>0</td>\n",
       "    </tr>\n",
       "    <tr>\n",
       "      <th>4</th>\n",
       "      <td>0_jackson_12.wav</td>\n",
       "      <td>0.302089</td>\n",
       "      <td>0.096603</td>\n",
       "      <td>844.363886</td>\n",
       "      <td>777.868127</td>\n",
       "      <td>1569.583263</td>\n",
       "      <td>0.049465</td>\n",
       "      <td>-315.801300</td>\n",
       "      <td>195.674118</td>\n",
       "      <td>-13.324564</td>\n",
       "      <td>...</td>\n",
       "      <td>6.031695</td>\n",
       "      <td>-6.353736</td>\n",
       "      <td>-15.983871</td>\n",
       "      <td>1.465030</td>\n",
       "      <td>-5.109472</td>\n",
       "      <td>-8.666434</td>\n",
       "      <td>5.026890</td>\n",
       "      <td>-5.346444</td>\n",
       "      <td>NaN</td>\n",
       "      <td>0</td>\n",
       "    </tr>\n",
       "  </tbody>\n",
       "</table>\n",
       "<p>5 rows × 29 columns</p>\n",
       "</div>"
      ],
      "text/plain": [
       "           filename  chroma_stft      rmse  spectral_centroid  \\\n",
       "0   0_jackson_0.wav     0.241461  0.112672         741.829081   \n",
       "1   0_jackson_1.wav     0.238694  0.090344         635.610880   \n",
       "2  0_jackson_10.wav     0.245599  0.091456         667.786694   \n",
       "3  0_jackson_11.wav     0.261694  0.087751         712.304185   \n",
       "4  0_jackson_12.wav     0.302089  0.096603         844.363886   \n",
       "\n",
       "   spectral_bandwidth      rolloff  zero_crossing_rate       mfcc1  \\\n",
       "0          758.492178  1438.494873            0.034023 -295.578461   \n",
       "1          670.336296  1160.452403            0.033458 -339.148743   \n",
       "2          732.606545  1257.180176            0.033268 -327.507416   \n",
       "3          731.292437  1449.104818            0.035916 -320.809937   \n",
       "4          777.868127  1569.583263            0.049465 -315.801300   \n",
       "\n",
       "        mfcc2      mfcc3  ...    mfcc13     mfcc14     mfcc15    mfcc16  \\\n",
       "0  189.853683 -19.606564  ... -5.172223  -8.323026 -10.299589 -0.144793   \n",
       "1  204.005249  -7.485526  ... -1.290891  -5.515564 -15.416287  0.405876   \n",
       "2  195.596924  -3.994768  ... -3.098450 -10.447586 -10.053793  3.248016   \n",
       "3  200.023743  -8.186146  ... -1.118007  -6.681235 -11.685319  2.010999   \n",
       "4  195.674118 -13.324564  ...  6.031695  -6.353736 -15.983871  1.465030   \n",
       "\n",
       "      mfcc17     mfcc18    mfcc19     mfcc20  label  number  \n",
       "0  -9.017329  -4.569392  2.881349 -15.627436    NaN       0  \n",
       "1  -3.624587 -11.204143 -0.096359  -6.751650    NaN       0  \n",
       "2 -11.686995 -10.726046  6.857377  -9.067446    NaN       0  \n",
       "3  -5.946658  -6.905020  4.136240  -9.614882    NaN       0  \n",
       "4  -5.109472  -8.666434  5.026890  -5.346444    NaN       0  \n",
       "\n",
       "[5 rows x 29 columns]"
      ]
     },
     "execution_count": 2,
     "metadata": {},
     "output_type": "execute_result"
    }
   ],
   "source": [
    "#Reading a dataset and convert file name to corresbonding umnber\n",
    "\n",
    "import pandas as pd\n",
    "import csv\n",
    "data = pd.read_csv('data.csv')\n",
    "data['number'] = data['filename'].str[:1]\n",
    "data.head()"
   ]
  },
  {
   "cell_type": "markdown",
   "metadata": {
    "colab_type": "text",
    "id": "GPbfaLTrap87"
   },
   "source": []
  },
  {
   "cell_type": "code",
   "execution_count": 3,
   "metadata": {
    "colab": {
     "base_uri": "https://localhost:8080/",
     "height": 34
    },
    "colab_type": "code",
    "id": "tY312cG_O66X",
    "outputId": "5a0195a3-32ae-484b-a76c-23e2d43c6e11"
   },
   "outputs": [
    {
     "data": {
      "text/plain": [
       "(1480, 26)"
      ]
     },
     "execution_count": 3,
     "metadata": {},
     "output_type": "execute_result"
    }
   ],
   "source": [
    "#Dropping unnecessary columns\n",
    "data = data.drop(['filename'],axis=1)\n",
    "data = data.drop(['label'],axis=1)\n",
    "data = data.drop(['chroma_stft'],axis=1)\n",
    "data.shape"
   ]
  },
  {
   "cell_type": "code",
   "execution_count": 4,
   "metadata": {
    "colab": {
     "base_uri": "https://localhost:8080/",
     "height": 223
    },
    "colab_type": "code",
    "id": "SeK_6kSRPVJ2",
    "outputId": "1cbabd78-22fe-42b1-aa83-de0d80d00e04"
   },
   "outputs": [
    {
     "data": {
      "text/html": [
       "<div>\n",
       "<style scoped>\n",
       "    .dataframe tbody tr th:only-of-type {\n",
       "        vertical-align: middle;\n",
       "    }\n",
       "\n",
       "    .dataframe tbody tr th {\n",
       "        vertical-align: top;\n",
       "    }\n",
       "\n",
       "    .dataframe thead th {\n",
       "        text-align: right;\n",
       "    }\n",
       "</style>\n",
       "<table border=\"1\" class=\"dataframe\">\n",
       "  <thead>\n",
       "    <tr style=\"text-align: right;\">\n",
       "      <th></th>\n",
       "      <th>rmse</th>\n",
       "      <th>spectral_centroid</th>\n",
       "      <th>spectral_bandwidth</th>\n",
       "      <th>rolloff</th>\n",
       "      <th>zero_crossing_rate</th>\n",
       "      <th>mfcc1</th>\n",
       "      <th>mfcc2</th>\n",
       "      <th>mfcc3</th>\n",
       "      <th>mfcc4</th>\n",
       "      <th>mfcc5</th>\n",
       "      <th>...</th>\n",
       "      <th>mfcc12</th>\n",
       "      <th>mfcc13</th>\n",
       "      <th>mfcc14</th>\n",
       "      <th>mfcc15</th>\n",
       "      <th>mfcc16</th>\n",
       "      <th>mfcc17</th>\n",
       "      <th>mfcc18</th>\n",
       "      <th>mfcc19</th>\n",
       "      <th>mfcc20</th>\n",
       "      <th>number</th>\n",
       "    </tr>\n",
       "  </thead>\n",
       "  <tbody>\n",
       "    <tr>\n",
       "      <th>1475</th>\n",
       "      <td>0.005692</td>\n",
       "      <td>904.242501</td>\n",
       "      <td>912.018606</td>\n",
       "      <td>1884.693604</td>\n",
       "      <td>0.037012</td>\n",
       "      <td>-573.046753</td>\n",
       "      <td>213.107422</td>\n",
       "      <td>-71.503036</td>\n",
       "      <td>23.391672</td>\n",
       "      <td>41.621361</td>\n",
       "      <td>...</td>\n",
       "      <td>-17.033361</td>\n",
       "      <td>2.310104</td>\n",
       "      <td>-7.309676</td>\n",
       "      <td>-10.210205</td>\n",
       "      <td>-3.549676</td>\n",
       "      <td>-24.257940</td>\n",
       "      <td>-13.669874</td>\n",
       "      <td>2.822646</td>\n",
       "      <td>-17.597813</td>\n",
       "      <td>9</td>\n",
       "    </tr>\n",
       "    <tr>\n",
       "      <th>1476</th>\n",
       "      <td>0.006362</td>\n",
       "      <td>918.104548</td>\n",
       "      <td>981.241130</td>\n",
       "      <td>1948.754883</td>\n",
       "      <td>0.035714</td>\n",
       "      <td>-567.125610</td>\n",
       "      <td>213.876129</td>\n",
       "      <td>-71.092758</td>\n",
       "      <td>27.683588</td>\n",
       "      <td>39.902252</td>\n",
       "      <td>...</td>\n",
       "      <td>-18.858164</td>\n",
       "      <td>3.211400</td>\n",
       "      <td>-11.240519</td>\n",
       "      <td>-11.333280</td>\n",
       "      <td>-0.739633</td>\n",
       "      <td>-24.070318</td>\n",
       "      <td>-11.294357</td>\n",
       "      <td>4.757043</td>\n",
       "      <td>-20.614614</td>\n",
       "      <td>9</td>\n",
       "    </tr>\n",
       "    <tr>\n",
       "      <th>1477</th>\n",
       "      <td>0.007046</td>\n",
       "      <td>929.724094</td>\n",
       "      <td>948.866615</td>\n",
       "      <td>1845.622173</td>\n",
       "      <td>0.039011</td>\n",
       "      <td>-564.273743</td>\n",
       "      <td>213.522720</td>\n",
       "      <td>-75.485138</td>\n",
       "      <td>26.547956</td>\n",
       "      <td>41.475002</td>\n",
       "      <td>...</td>\n",
       "      <td>-21.700708</td>\n",
       "      <td>2.268953</td>\n",
       "      <td>-10.723814</td>\n",
       "      <td>-9.647504</td>\n",
       "      <td>-0.024529</td>\n",
       "      <td>-25.916891</td>\n",
       "      <td>-12.202823</td>\n",
       "      <td>5.977343</td>\n",
       "      <td>-16.882366</td>\n",
       "      <td>9</td>\n",
       "    </tr>\n",
       "    <tr>\n",
       "      <th>1478</th>\n",
       "      <td>0.005221</td>\n",
       "      <td>974.226613</td>\n",
       "      <td>923.570385</td>\n",
       "      <td>1849.588816</td>\n",
       "      <td>0.045796</td>\n",
       "      <td>-566.700012</td>\n",
       "      <td>216.096710</td>\n",
       "      <td>-68.707542</td>\n",
       "      <td>16.947353</td>\n",
       "      <td>40.893364</td>\n",
       "      <td>...</td>\n",
       "      <td>-16.664474</td>\n",
       "      <td>1.102790</td>\n",
       "      <td>-3.793747</td>\n",
       "      <td>-7.993629</td>\n",
       "      <td>-0.721535</td>\n",
       "      <td>-16.744701</td>\n",
       "      <td>-11.211341</td>\n",
       "      <td>1.916284</td>\n",
       "      <td>-15.097013</td>\n",
       "      <td>9</td>\n",
       "    </tr>\n",
       "    <tr>\n",
       "      <th>1479</th>\n",
       "      <td>0.004853</td>\n",
       "      <td>987.124366</td>\n",
       "      <td>940.056828</td>\n",
       "      <td>1968.588096</td>\n",
       "      <td>0.050216</td>\n",
       "      <td>-573.547668</td>\n",
       "      <td>222.053482</td>\n",
       "      <td>-65.773590</td>\n",
       "      <td>22.183229</td>\n",
       "      <td>34.929371</td>\n",
       "      <td>...</td>\n",
       "      <td>-20.156139</td>\n",
       "      <td>1.456851</td>\n",
       "      <td>-1.521448</td>\n",
       "      <td>-1.297065</td>\n",
       "      <td>5.405921</td>\n",
       "      <td>-17.469110</td>\n",
       "      <td>-11.722614</td>\n",
       "      <td>1.544921</td>\n",
       "      <td>-17.585129</td>\n",
       "      <td>9</td>\n",
       "    </tr>\n",
       "  </tbody>\n",
       "</table>\n",
       "<p>5 rows × 26 columns</p>\n",
       "</div>"
      ],
      "text/plain": [
       "          rmse  spectral_centroid  spectral_bandwidth      rolloff  \\\n",
       "1475  0.005692         904.242501          912.018606  1884.693604   \n",
       "1476  0.006362         918.104548          981.241130  1948.754883   \n",
       "1477  0.007046         929.724094          948.866615  1845.622173   \n",
       "1478  0.005221         974.226613          923.570385  1849.588816   \n",
       "1479  0.004853         987.124366          940.056828  1968.588096   \n",
       "\n",
       "      zero_crossing_rate       mfcc1       mfcc2      mfcc3      mfcc4  \\\n",
       "1475            0.037012 -573.046753  213.107422 -71.503036  23.391672   \n",
       "1476            0.035714 -567.125610  213.876129 -71.092758  27.683588   \n",
       "1477            0.039011 -564.273743  213.522720 -75.485138  26.547956   \n",
       "1478            0.045796 -566.700012  216.096710 -68.707542  16.947353   \n",
       "1479            0.050216 -573.547668  222.053482 -65.773590  22.183229   \n",
       "\n",
       "          mfcc5  ...     mfcc12    mfcc13     mfcc14     mfcc15    mfcc16  \\\n",
       "1475  41.621361  ... -17.033361  2.310104  -7.309676 -10.210205 -3.549676   \n",
       "1476  39.902252  ... -18.858164  3.211400 -11.240519 -11.333280 -0.739633   \n",
       "1477  41.475002  ... -21.700708  2.268953 -10.723814  -9.647504 -0.024529   \n",
       "1478  40.893364  ... -16.664474  1.102790  -3.793747  -7.993629 -0.721535   \n",
       "1479  34.929371  ... -20.156139  1.456851  -1.521448  -1.297065  5.405921   \n",
       "\n",
       "         mfcc17     mfcc18    mfcc19     mfcc20  number  \n",
       "1475 -24.257940 -13.669874  2.822646 -17.597813       9  \n",
       "1476 -24.070318 -11.294357  4.757043 -20.614614       9  \n",
       "1477 -25.916891 -12.202823  5.977343 -16.882366       9  \n",
       "1478 -16.744701 -11.211341  1.916284 -15.097013       9  \n",
       "1479 -17.469110 -11.722614  1.544921 -17.585129       9  \n",
       "\n",
       "[5 rows x 26 columns]"
      ]
     },
     "execution_count": 4,
     "metadata": {},
     "output_type": "execute_result"
    }
   ],
   "source": [
    "# we’ll encode genres into integers\n",
    "from sklearn import preprocessing\n",
    "genre_list = data['number']\n",
    "encoder = preprocessing.LabelEncoder()\n",
    "y = encoder.fit_transform(genre_list)\n",
    "data.tail()"
   ]
  },
  {
   "cell_type": "code",
   "execution_count": 5,
   "metadata": {
    "colab": {},
    "colab_type": "code",
    "id": "UEy6oG8RQmnN"
   },
   "outputs": [],
   "source": [
    "# Splitting the dataset into training and testing dataset\n",
    "from sklearn.model_selection import train_test_split\n",
    "X = np.array(data.iloc[:, :-1], dtype = float)\n",
    "y = data.iloc[:, -1]\n",
    "X_train, X_test, y_train, y_test = train_test_split(X, y, test_size=0.2)\n"
   ]
  },
  {
   "cell_type": "code",
   "execution_count": 6,
   "metadata": {
    "colab": {
     "base_uri": "https://localhost:8080/",
     "height": 34
    },
    "colab_type": "code",
    "id": "S1o-OccqP5Ax",
    "outputId": "c93e0d6f-f5c0-4208-b0e5-7ecba885cddc"
   },
   "outputs": [
    {
     "name": "stdout",
     "output_type": "stream",
     "text": [
      "(1184, 25)\n"
     ]
    }
   ],
   "source": [
    "#Normalizing the dataset\n",
    "from sklearn.preprocessing import StandardScaler\n",
    "import numpy as np\n",
    "scaler = StandardScaler()\n",
    "X_train = scaler.fit_transform( X_train )\n",
    "X_test = scaler.transform( X_test )\n",
    "print(X_train.shape)\n"
   ]
  },
  {
   "cell_type": "code",
   "execution_count": 7,
   "metadata": {
    "colab": {
     "base_uri": "https://localhost:8080/",
     "height": 223
    },
    "colab_type": "code",
    "id": "T9Q0TF-UTD1r",
    "outputId": "d7e34a71-f11d-42ec-b733-bb80c3d868d0"
   },
   "outputs": [
    {
     "name": "stdout",
     "output_type": "stream",
     "text": [
      "795     5\n",
      "639     4\n",
      "914     6\n",
      "49      0\n",
      "929     6\n",
      "       ..\n",
      "691     4\n",
      "322     2\n",
      "1318    8\n",
      "1063    7\n",
      "210     1\n",
      "Name: number, Length: 296, dtype: object\n"
     ]
    }
   ],
   "source": [
    "# Shuffle the training set and Test set\n",
    "from sklearn.model_selection import ShuffleSplit\n",
    "rs = ShuffleSplit(n_splits=5, test_size=.25, random_state=0)\n",
    "rs.get_n_splits(X_train)\n",
    "rs.get_n_splits(X_test)\n",
    "rs.get_n_splits(y_train)\n",
    "rs.get_n_splits(y_test)\n",
    "print(y_test)"
   ]
  },
  {
   "cell_type": "code",
   "execution_count": 8,
   "metadata": {
    "colab": {
     "base_uri": "https://localhost:8080/",
     "height": 203
    },
    "colab_type": "code",
    "id": "Q06tYXcdQZFp",
    "outputId": "8ab73b51-7592-450c-b152-8746e2f11b87"
   },
   "outputs": [
    {
     "name": "stderr",
     "output_type": "stream",
     "text": [
      "Using TensorFlow backend.\n"
     ]
    },
    {
     "name": "stdout",
     "output_type": "stream",
     "text": [
      "WARNING:tensorflow:From c:\\users\\erodvas\\appdata\\local\\programs\\python\\python36\\lib\\site-packages\\tensorflow_core\\python\\ops\\resource_variable_ops.py:1630: calling BaseResourceVariable.__init__ (from tensorflow.python.ops.resource_variable_ops) with constraint is deprecated and will be removed in a future version.\n",
      "Instructions for updating:\n",
      "If using Keras pass *_constraint arguments to layers.\n"
     ]
    }
   ],
   "source": [
    "#Creating a Model\n",
    "from keras import models\n",
    "from keras import layers\n",
    "model = models.Sequential()\n",
    "model.add(layers.Dense(256, activation='relu', input_shape=(X_train.shape[1],)))\n",
    "model.add(layers.Dense(128, activation='relu'))\n",
    "model.add(layers.Dense(64, activation='relu'))\n",
    "model.add(layers.Dense(10, activation='softmax'))"
   ]
  },
  {
   "cell_type": "code",
   "execution_count": 9,
   "metadata": {
    "colab": {
     "base_uri": "https://localhost:8080/",
     "height": 106
    },
    "colab_type": "code",
    "id": "mJH2-yaTRHxV",
    "outputId": "bef3ccf8-289d-4202-bdc2-86f3b16d3bac"
   },
   "outputs": [],
   "source": [
    "# Learning Process of a model\n",
    "model.compile(optimizer='adam',\n",
    "              loss='sparse_categorical_crossentropy',\n",
    "              metrics=['accuracy'])"
   ]
  },
  {
   "cell_type": "code",
   "execution_count": 10,
   "metadata": {
    "colab": {},
    "colab_type": "code",
    "id": "fTcYgQO8Z5u-"
   },
   "outputs": [],
   "source": [
    "# simple early stopping\n",
    "from keras.callbacks import EarlyStopping\n",
    "\n",
    "es = EarlyStopping(monitor='val_loss', mode='min', verbose=1)"
   ]
  },
  {
   "cell_type": "code",
   "execution_count": 11,
   "metadata": {
    "colab": {
     "base_uri": "https://localhost:8080/",
     "height": 808
    },
    "colab_type": "code",
    "id": "iBDSdjwbaNzg",
    "outputId": "5c9ac6d9-a441-4fde-e157-803437bb0250"
   },
   "outputs": [
    {
     "name": "stdout",
     "output_type": "stream",
     "text": [
      "WARNING:tensorflow:From c:\\users\\erodvas\\appdata\\local\\programs\\python\\python36\\lib\\site-packages\\keras\\backend\\tensorflow_backend.py:422: The name tf.global_variables is deprecated. Please use tf.compat.v1.global_variables instead.\n",
      "\n",
      "Train on 1184 samples, validate on 296 samples\n",
      "Epoch 1/50\n",
      "1184/1184 [==============================] - 0s 119us/step - loss: 2.0062 - accuracy: 0.3885 - val_loss: 1.6106 - val_accuracy: 0.5338\n",
      "Epoch 2/50\n",
      "1184/1184 [==============================] - 0s 21us/step - loss: 1.3359 - accuracy: 0.6394 - val_loss: 1.0261 - val_accuracy: 0.7500\n",
      "Epoch 3/50\n",
      "1184/1184 [==============================] - 0s 25us/step - loss: 0.7988 - accuracy: 0.8269 - val_loss: 0.5812 - val_accuracy: 0.9088\n",
      "Epoch 4/50\n",
      "1184/1184 [==============================] - 0s 27us/step - loss: 0.4688 - accuracy: 0.8919 - val_loss: 0.3477 - val_accuracy: 0.9324\n",
      "Epoch 5/50\n",
      "1184/1184 [==============================] - 0s 28us/step - loss: 0.2867 - accuracy: 0.9586 - val_loss: 0.2461 - val_accuracy: 0.9459\n",
      "Epoch 6/50\n",
      "1184/1184 [==============================] - 0s 24us/step - loss: 0.1926 - accuracy: 0.9637 - val_loss: 0.1768 - val_accuracy: 0.9561\n",
      "Epoch 7/50\n",
      "1184/1184 [==============================] - 0s 25us/step - loss: 0.1445 - accuracy: 0.9713 - val_loss: 0.1432 - val_accuracy: 0.9561\n",
      "Epoch 8/50\n",
      "1184/1184 [==============================] - 0s 25us/step - loss: 0.1191 - accuracy: 0.9764 - val_loss: 0.1298 - val_accuracy: 0.9628\n",
      "Epoch 9/50\n",
      "1184/1184 [==============================] - 0s 23us/step - loss: 0.0968 - accuracy: 0.9780 - val_loss: 0.1221 - val_accuracy: 0.9662\n",
      "Epoch 10/50\n",
      "1184/1184 [==============================] - 0s 24us/step - loss: 0.0803 - accuracy: 0.9848 - val_loss: 0.1219 - val_accuracy: 0.9628\n",
      "Epoch 11/50\n",
      "1184/1184 [==============================] - 0s 24us/step - loss: 0.0688 - accuracy: 0.9882 - val_loss: 0.1115 - val_accuracy: 0.9595\n",
      "Epoch 12/50\n",
      "1184/1184 [==============================] - 0s 22us/step - loss: 0.0591 - accuracy: 0.9873 - val_loss: 0.1122 - val_accuracy: 0.9628\n",
      "Epoch 00012: early stopping\n"
     ]
    }
   ],
   "source": [
    "#Train with early stopping to avoid overfitting\n",
    "history = model.fit(X_train,\n",
    "                    y_train,validation_data=(X_test, y_test),\n",
    "                    epochs=50,\n",
    "                    batch_size=128, callbacks=[es])"
   ]
  },
  {
   "cell_type": "code",
   "execution_count": 12,
   "metadata": {
    "colab": {
     "base_uri": "https://localhost:8080/",
     "height": 267
    },
    "colab_type": "code",
    "id": "z3nvtYKVa5HD",
    "outputId": "b858b37f-8e47-4cb4-a737-ef960246254b"
   },
   "outputs": [
    {
     "data": {
      "image/png": "[encoded data removed]",
      "text/plain": [
       "<Figure size 432x288 with 1 Axes>"
      ]
     },
     "metadata": {
      "needs_background": "light"
     },
     "output_type": "display_data"
    }
   ],
   "source": [
    "# plot training history\n",
    "from matplotlib import pyplot\n",
    "pyplot.plot(history.history['loss'], label='train')\n",
    "pyplot.plot(history.history['val_loss'], label='test')\n",
    "pyplot.legend()\n",
    "pyplot.show()"
   ]
  },
  {
   "cell_type": "code",
   "execution_count": 13,
   "metadata": {
    "colab": {
     "base_uri": "https://localhost:8080/",
     "height": 86
    },
    "colab_type": "code",
    "id": "HSVxu84pRgZa",
    "outputId": "eb9242c9-7bff-4d54-a58c-60a915aad7d2"
   },
   "outputs": [
    {
     "name": "stdout",
     "output_type": "stream",
     "text": [
      "\n",
      "# Generate predictions for 3 samples\n",
      "296/296 [==============================] - 0s 27us/step\n"
     ]
    },
    {
     "data": {
      "text/plain": [
       "[0.11216524847455926, 0.962837815284729]"
      ]
     },
     "execution_count": 13,
     "metadata": {},
     "output_type": "execute_result"
    }
   ],
   "source": [
    "# Predection \n",
    "print('\\n# Generate predictions for 3 samples')\n",
    "predictions = model.predict(X_test)\n",
    "model.evaluate(X_test,y_test)"
   ]
  },
  {
   "cell_type": "code",
   "execution_count": 14,
   "metadata": {
    "colab": {
     "base_uri": "https://localhost:8080/",
     "height": 240
    },
    "colab_type": "code",
    "id": "8Hqe0WakRqor",
    "outputId": "db21a296-aa9f-4513-d3d9-c56be3d7c396"
   },
   "outputs": [
    {
     "name": "stdout",
     "output_type": "stream",
     "text": [
      "[[2.77210870e-06 5.32862768e-02 6.53733105e-06 ... 4.51203596e-05\n",
      "  1.75682449e-04 1.08488067e-03]\n",
      " [3.06936074e-03 1.86787645e-07 5.44844969e-09 ... 8.58527604e-13\n",
      "  1.02441886e-13 5.82823590e-12]\n",
      " [2.35718835e-05 6.47516814e-08 1.52438588e-05 ... 3.33277369e-03\n",
      "  9.25722852e-05 1.29011096e-05]\n",
      " ...\n",
      " [4.28030340e-08 5.29368435e-07 1.82266103e-06 ... 1.02296253e-04\n",
      "  9.97535706e-01 3.15659759e-06]\n",
      " [1.05262006e-05 6.44978019e-04 2.35883093e-07 ... 9.79516208e-01\n",
      "  6.81392121e-05 3.37831560e-03]\n",
      " [6.90978989e-02 3.17238718e-01 7.46359304e-03 ... 3.72635007e-01\n",
      "  7.02586083e-04 5.62565997e-02]]\n"
     ]
    }
   ],
   "source": [
    "print(predictions)"
   ]
  },
  {
   "cell_type": "code",
   "execution_count": 15,
   "metadata": {
    "colab": {
     "base_uri": "https://localhost:8080/",
     "height": 223
    },
    "colab_type": "code",
    "id": "HFyyfWr_grke",
    "outputId": "ca6a80ed-35f0-456f-c43b-e3946b686db3"
   },
   "outputs": [],
   "source": [
    "from sklearn.ensemble import RandomForestClassifier\n",
    "\n",
    "regressor = RandomForestClassifier(n_estimators=20, random_state=0)\n",
    "regressor.fit(X_train, y_train)\n",
    "y_pred = regressor.predict(X_test)"
   ]
  },
  {
   "cell_type": "code",
   "execution_count": 16,
   "metadata": {
    "colab": {
     "base_uri": "https://localhost:8080/",
     "height": 497
    },
    "colab_type": "code",
    "id": "ZO5PUKzdgysT",
    "outputId": "ef12ef4e-52bd-4756-94cb-45186104b683"
   },
   "outputs": [
    {
     "name": "stdout",
     "output_type": "stream",
     "text": [
      "[[26  1  0  0  0  0  0  0  0  0]\n",
      " [ 0 26  0  0  0  1  0  1  0  0]\n",
      " [ 2  0 25  1  0  0  0  0  0  0]\n",
      " [ 0  0  0 24  0  0  0  1  1  0]\n",
      " [ 0  0  0  0 32  0  0  0  0  0]\n",
      " [ 0  1  0  0  0 28  0  0  0  0]\n",
      " [ 0  0  0  0  0  0 29  1  0  0]\n",
      " [ 0  0  0  0  0  0  0 21  0  0]\n",
      " [ 0  0  0  0  0  0  0  0 33  0]\n",
      " [ 2  2  1  0  0  0  0  0  0 37]]\n",
      "              precision    recall  f1-score   support\n",
      "\n",
      "           0       0.87      0.96      0.91        27\n",
      "           1       0.87      0.93      0.90        28\n",
      "           2       0.96      0.89      0.93        28\n",
      "           3       0.96      0.92      0.94        26\n",
      "           4       1.00      1.00      1.00        32\n",
      "           5       0.97      0.97      0.97        29\n",
      "           6       1.00      0.97      0.98        30\n",
      "           7       0.88      1.00      0.93        21\n",
      "           8       0.97      1.00      0.99        33\n",
      "           9       1.00      0.88      0.94        42\n",
      "\n",
      "    accuracy                           0.95       296\n",
      "   macro avg       0.95      0.95      0.95       296\n",
      "weighted avg       0.95      0.95      0.95       296\n",
      "\n",
      "0.9493243243243243\n"
     ]
    }
   ],
   "source": [
    "from sklearn.metrics import classification_report, confusion_matrix, accuracy_score\n",
    "\n",
    "print(confusion_matrix(y_test,y_pred))\n",
    "print(classification_report(y_test,y_pred))\n",
    "print(accuracy_score(y_test, y_pred))"
   ]
  },
  {
   "cell_type": "code",
   "execution_count": 17,
   "metadata": {
    "colab": {
     "base_uri": "https://localhost:8080/",
     "height": 86
    },
    "colab_type": "code",
    "id": "Ydz2tJ_-B3Kw",
    "outputId": "06aba56d-8654-4e83-9f47-1799577c8298"
   },
   "outputs": [],
   "source": [
    "#!pip install pydub"
   ]
  },
  {
   "cell_type": "code",
   "execution_count": null,
   "metadata": {},
   "outputs": [],
   "source": []
  }
 ],
 "metadata": {
  "accelerator": "GPU",
  "colab": {
   "name": "sound-regnize-Keras.ipynb",
   "provenance": []
  },
  "kernelspec": {
   "display_name": "Python 3",
   "language": "python",
   "name": "python3"
  },
  "language_info": {
   "codemirror_mode": {
    "name": "ipython",
    "version": 3
   },
   "file_extension": ".py",
   "mimetype": "text/x-python",
   "name": "python",
   "nbconvert_exporter": "python",
   "pygments_lexer": "ipython3",
   "version": "3.6.8"
  }
 },
 "nbformat": 4,
 "nbformat_minor": 1
}
