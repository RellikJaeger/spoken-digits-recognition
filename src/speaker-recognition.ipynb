{
 "cells": [
  {
   "cell_type": "code",
   "execution_count": 1,
   "metadata": {},
   "outputs": [
    {
     "name": "stdout",
     "output_type": "stream",
     "text": [
      "Once deleted, variables cannot be recovered. Proceed (y/[n])? y\n"
     ]
    }
   ],
   "source": [
    "#import tensorflow as tf\n",
    "#tf.reset_default_graph()\n",
    "%reset"
   ]
  },
  {
   "cell_type": "code",
   "execution_count": 2,
   "metadata": {},
   "outputs": [],
   "source": [
    "TRAIN_CSV_FILE = \"train.csv\"\n",
    "TEST_CSV_FILE = \"test.csv\"\n",
    "RODOLFO_CSV_FILE = \"rodolfo.csv\"\n",
    "ANKUR_CSV_FILE = \"ankur.csv\"\n",
    "CAROLINE_CSV_FILE = \"caroline.csv\""
   ]
  },
  {
   "cell_type": "code",
   "execution_count": 3,
   "metadata": {
    "colab": {
     "base_uri": "https://localhost:8080/",
     "height": 71
    },
    "colab_type": "code",
    "id": "FIUhv3GI8FOF",
    "outputId": "5adb2545-0d54-4494-c1bb-6fbb9f69ed45"
   },
   "outputs": [],
   "source": [
    "import matplotlib.pyplot as plt\n",
    "import numpy as np\n",
    "from matplotlib import cm\n",
    "import librosa\n",
    "import csv\n",
    "import os\n",
    "\n",
    "def extractWavFeatures(soundFilesFolder, csvFileName):\n",
    "    print(\"The features of the files in the folder \"+soundFilesFolder+\" will be saved to \"+csvFileName)\n",
    "    header = 'filename chroma_stft rmse spectral_centroid spectral_bandwidth rolloff zero_crossing_rate'\n",
    "    for i in range(1, 21):\n",
    "        header += f' mfcc{i}'\n",
    "    header += ' label'\n",
    "    header = header.split()\n",
    "    print('CSV Header: ', header)\n",
    "    file = open(csvFileName, 'w', newline='')\n",
    "    #with file:\n",
    "    writer = csv.writer(file)\n",
    "    writer.writerow(header)\n",
    "    genres = '1 2 3 4 5 6 7 8 9 0'.split()\n",
    "    for filename in os.listdir(soundFilesFolder):\n",
    "        number = f'{soundFilesFolder}/{filename}'\n",
    "        y, sr = librosa.load(number, mono=True, duration=30)\n",
    "        # remove leading and trailing silence\n",
    "        y, index = librosa.effects.trim(y)\n",
    "        chroma_stft = librosa.feature.chroma_stft(y=y, sr=sr)\n",
    "        rmse = librosa.feature.rms(y=y)\n",
    "        spec_cent = librosa.feature.spectral_centroid(y=y, sr=sr)\n",
    "        spec_bw = librosa.feature.spectral_bandwidth(y=y, sr=sr)\n",
    "        rolloff = librosa.feature.spectral_rolloff(y=y, sr=sr)\n",
    "        zcr = librosa.feature.zero_crossing_rate(y)\n",
    "        mfcc = librosa.feature.mfcc(y=y, sr=sr)\n",
    "        to_append = f'{filename} {np.mean(chroma_stft)} {np.mean(rmse)} {np.mean(spec_cent)} {np.mean(spec_bw)} {np.mean(rolloff)} {np.mean(zcr)}'\n",
    "        for e in mfcc:\n",
    "            to_append += f' {np.mean(e)}'\n",
    "        writer.writerow(to_append.split())\n",
    "    file.close()\n",
    "    print(\"End of extractWavFeatures\")\n",
    "\n",
    "# comment these lines if you already have train.csv and test.csv files\n",
    "#extractWavFeatures(\"../data/recordings/train\", TRAIN_CSV_FILE)\n",
    "#extractWavFeatures(\"../data/recordings/test\", TEST_CSV_FILE)\n",
    "#extractWavFeatures(\"../data/recordings/rodolfo\", RODOLFO_CSV_FILE)\n",
    "#extractWavFeatures(\"../data/recordings/ankur\", ANKUR_CSV_FILE)\n",
    "#extractWavFeatures(\"../data/recordings/caroline\", CAROLINE_CSV_FILE)\n",
    "\n"
   ]
  },
  {
   "cell_type": "code",
   "execution_count": 4,
   "metadata": {
    "colab": {
     "base_uri": "https://localhost:8080/",
     "height": 223
    },
    "colab_type": "code",
    "id": "_TZXrWYiNqCj",
    "outputId": "7d1d926e-64fa-4855-df66-207a97778915"
   },
   "outputs": [
    {
     "name": "stdout",
     "output_type": "stream",
     "text": [
      "train.csv will be preprocessed\n",
      "Preprocessing is finished\n",
      "       rmse  spectral_centroid  spectral_bandwidth      rolloff  \\\n",
      "0  0.039759        1358.208628         1890.243941  2540.917969   \n",
      "1  0.302424         879.994019         1137.986581  1826.501859   \n",
      "2  0.112672         741.829081          758.492178  1438.494873   \n",
      "3  0.090344         635.610880          670.336296  1160.452403   \n",
      "4  0.091456         667.786694          732.606545  1257.180176   \n",
      "\n",
      "   zero_crossing_rate       mfcc1       mfcc2      mfcc3      mfcc4  \\\n",
      "0            0.093363 -349.631744  135.204880  19.397516  12.044560   \n",
      "1            0.031423 -225.136642  150.581146 -11.930015   5.277394   \n",
      "2            0.034023 -295.578461  189.853683 -19.606564   6.078507   \n",
      "3            0.033458 -339.148743  204.005249  -7.485526  14.297898   \n",
      "4            0.033268 -327.507416  195.596924  -3.994768  21.315840   \n",
      "\n",
      "       mfcc5  ...     mfcc12     mfcc13     mfcc14     mfcc15     mfcc16  \\\n",
      "0  -8.521679  ... -12.872719  -3.118359  -4.095297  -8.339793  -4.422189   \n",
      "1 -16.297689  ... -13.114679 -13.413434 -17.883400 -17.694012 -18.091360   \n",
      "2  22.067095  ... -25.725817  -5.172223  -8.323026 -10.299589  -0.144793   \n",
      "3  20.885136  ... -23.196365  -1.290891  -5.515564 -15.416287   0.405876   \n",
      "4  18.372593  ... -18.677113  -3.098450 -10.447586 -10.053793   3.248016   \n",
      "\n",
      "      mfcc17     mfcc18     mfcc19     mfcc20  number  \n",
      "0  -2.988979  -0.864654  -4.008632   3.243911       3  \n",
      "1 -14.684992 -16.672678 -10.986701 -10.445865       4  \n",
      "2  -9.017329  -4.569392   2.881349 -15.627436       0  \n",
      "3  -3.624587 -11.204143  -0.096359  -6.751650       0  \n",
      "4 -11.686995 -10.726046   6.857377  -9.067446       0  \n",
      "\n",
      "[5 rows x 26 columns]\n",
      "test.csv will be preprocessed\n",
      "Preprocessing is finished\n",
      "       rmse  spectral_centroid  spectral_bandwidth      rolloff  \\\n",
      "0  0.095394         756.450712          761.875940  1463.941148   \n",
      "1  0.040176         791.046914         1039.695939  2027.709961   \n",
      "2  0.006984         958.934867          941.639039  2084.106445   \n",
      "3  0.071547         759.877794          899.957003  1427.553489   \n",
      "4  0.030382         968.793389         1024.834851  1911.968994   \n",
      "\n",
      "   zero_crossing_rate       mfcc1       mfcc2      mfcc3      mfcc4  \\\n",
      "0            0.037296 -328.263885  180.479416  -0.485355  15.525293   \n",
      "1            0.031440 -385.602570  189.328186 -37.268154  59.937920   \n",
      "2            0.040039 -542.812622  217.971329 -62.197266  21.537390   \n",
      "3            0.030429 -355.530396  204.388977 -20.676432  26.671131   \n",
      "4            0.045654 -376.499390  237.137833 -59.964413  37.715607   \n",
      "\n",
      "       mfcc5  ...     mfcc12     mfcc13     mfcc14     mfcc15     mfcc16  \\\n",
      "0  20.992447  ... -15.426966   7.284101  -6.443027 -13.377846  -2.407696   \n",
      "1  45.049831  ... -31.051588   3.420474  -9.762264 -11.220519  12.306476   \n",
      "2  37.756233  ... -26.797358   5.341060 -12.159102 -14.180812   9.346475   \n",
      "3  15.797892  ... -18.198524   4.029843 -10.552087 -21.039103  -5.634320   \n",
      "4  21.510382  ... -21.805593  13.740063  -6.738161  -9.305484  13.205662   \n",
      "\n",
      "      mfcc17     mfcc18    mfcc19     mfcc20  number  \n",
      "0 -12.902534 -10.437113 -1.025342 -15.457672       0  \n",
      "1  -5.082399  -3.775387  9.707520  -8.757109       1  \n",
      "2 -10.899978  -9.715154  5.997578 -12.574761       2  \n",
      "3 -14.788965 -11.016036 -1.313916 -16.993853       0  \n",
      "4 -11.917943  -7.877903  9.777577 -10.397771       1  \n",
      "\n",
      "[5 rows x 26 columns]\n",
      "rodolfo.csv will be preprocessed\n",
      "Preprocessing is finished\n",
      "       rmse  spectral_centroid  spectral_bandwidth      rolloff  \\\n",
      "0  0.159381        1140.769641         1151.467042  2283.347731   \n",
      "1  0.210533         857.875206          935.107596  1693.292791   \n",
      "2  0.263349        1541.173551         1152.265367  2831.616211   \n",
      "3  0.192326        1329.156485         1174.320149  2624.036133   \n",
      "4  0.226373         814.341960          750.963777  1228.525905   \n",
      "\n",
      "   zero_crossing_rate       mfcc1       mfcc2      mfcc3      mfcc4  \\\n",
      "0            0.056547 -261.164734  169.949051 -12.116495   0.249355   \n",
      "1            0.045876 -210.400162  203.347412 -29.762398  10.922469   \n",
      "2            0.086597 -215.661163  118.347473 -48.183334  38.231396   \n",
      "3            0.070957 -243.327927  153.328323 -61.004116  30.158630   \n",
      "4            0.054379 -231.669846  229.563171 -31.207777  10.439227   \n",
      "\n",
      "       mfcc5  ...     mfcc12     mfcc13     mfcc14     mfcc15     mfcc16  \\\n",
      "0   8.262510  ... -26.140615  -3.177802  -5.860640 -14.931437 -12.212286   \n",
      "1   0.970604  ... -23.923786   1.756859 -16.406130 -23.049948 -14.986543   \n",
      "2  27.467520  ... -33.062054  -0.846371  -3.631631 -26.171604  -9.593836   \n",
      "3  40.230049  ... -33.476070  -4.738038  -4.687401 -22.978802  -8.706027   \n",
      "4  -1.676439  ... -25.018814  10.568133  -5.240338 -25.684654  -3.828843   \n",
      "\n",
      "      mfcc17     mfcc18     mfcc19     mfcc20  number  \n",
      "0  -5.934423  -2.185390  -7.319934 -12.082070       5  \n",
      "1 -11.889624  -1.853151 -14.520547  -7.746283       5  \n",
      "2   5.851287 -12.899953  -5.184548   9.597952       5  \n",
      "3  -2.532584 -10.053163  -6.744677   1.010591       5  \n",
      "4  -4.053262 -13.233035  -1.410947  -0.605062       5  \n",
      "\n",
      "[5 rows x 26 columns]\n",
      "ankur.csv will be preprocessed\n",
      "Preprocessing is finished\n",
      "       rmse  spectral_centroid  spectral_bandwidth      rolloff  \\\n",
      "0  0.070496        1736.761057         1697.429353  2782.932447   \n",
      "1  0.102912        1270.788895         1624.572386  2442.362154   \n",
      "2  0.078486        1075.435777         1516.856123  1622.566732   \n",
      "3  0.050157        1346.572001         1928.102412  2752.302246   \n",
      "4  0.065590        1632.469697         1500.029411  2649.109184   \n",
      "\n",
      "   zero_crossing_rate       mfcc1       mfcc2      mfcc3      mfcc4  \\\n",
      "0            0.095979 -270.462311  120.525047 -16.563780  25.340765   \n",
      "1            0.055965 -264.190643  154.578873  -9.901300   1.276820   \n",
      "2            0.046260 -291.492828  162.305099   6.710564 -11.314905   \n",
      "3            0.041960 -323.409210  102.878326   0.363319  44.702026   \n",
      "4            0.109161 -292.392822  129.510696 -29.552862  -4.895564   \n",
      "\n",
      "       mfcc5  ...     mfcc12     mfcc13     mfcc14    mfcc15     mfcc16  \\\n",
      "0  -8.705835  ... -20.140141  -1.016966 -11.883263 -8.389129  -4.095136   \n",
      "1  -4.987144  ...  -9.880266  -0.010168 -10.896443 -5.682155  -0.433506   \n",
      "2 -21.089169  ... -19.895882 -15.974062  -9.684846 -4.805720  -9.321257   \n",
      "3  20.429386  ... -19.082314  -7.822535 -10.515773 -9.473083 -13.848988   \n",
      "4 -14.537791  ...  -9.398900  -1.793926  -2.894202 -9.568596  -4.055273   \n",
      "\n",
      "     mfcc17     mfcc18     mfcc19    mfcc20  number  \n",
      "0  2.231521  -6.269879  -7.276823  0.429325       3  \n",
      "1  6.786911 -10.947194 -11.484864 -0.297753       3  \n",
      "2 -1.187646  -2.006733  -0.758099 -2.583525       3  \n",
      "3 -2.088856   0.519685  -8.195148 -0.226204       3  \n",
      "4  4.774727   1.862159  -6.838790 -4.642497       3  \n",
      "\n",
      "[5 rows x 26 columns]\n",
      "caroline.csv will be preprocessed\n",
      "Preprocessing is finished\n",
      "       rmse  spectral_centroid  spectral_bandwidth      rolloff  \\\n",
      "0  0.178100         986.240750         1243.094994  2207.479581   \n",
      "1  0.243922         839.268659          985.135107  1423.724724   \n",
      "2  0.216361        1724.245475         1323.386691  3037.258301   \n",
      "3  0.235846        1187.890095         1070.218154  2151.269531   \n",
      "4  0.184181        1001.523819          700.837414  1568.498091   \n",
      "\n",
      "   zero_crossing_rate       mfcc1       mfcc2      mfcc3      mfcc4  \\\n",
      "0            0.045351 -230.533142  171.157135  -5.515658  20.675375   \n",
      "1            0.037626 -191.595886  189.683578 -29.157555  16.972124   \n",
      "2            0.126270 -207.770630  117.476646 -51.699604  25.138119   \n",
      "3            0.078102 -256.477051  129.693726 -44.495125  41.161907   \n",
      "4            0.075506 -290.384216  178.910080 -30.900726 -16.174242   \n",
      "\n",
      "       mfcc5  ...     mfcc12    mfcc13     mfcc14     mfcc15     mfcc16  \\\n",
      "0  -3.108402  ... -14.097899 -9.547957  -9.970568 -15.526528 -17.028362   \n",
      "1 -13.665516  ... -14.553379 -6.711682 -15.045198 -11.206120 -11.227142   \n",
      "2  -4.150836  ...  -6.206431 -1.280193 -15.798480 -19.782545 -17.499298   \n",
      "3  -4.983248  ...   1.107996 -7.185526 -12.765059 -22.265341 -11.785619   \n",
      "4  15.677494  ...  -2.516648 -9.582983 -13.252056 -20.159275 -15.826285   \n",
      "\n",
      "      mfcc17     mfcc18     mfcc19    mfcc20  number  \n",
      "0 -13.014733  -9.094010   1.289093 -5.188507       4  \n",
      "1  -9.380514 -11.611271  -7.099937 -6.555156       4  \n",
      "2 -11.280958 -14.808182  -8.025835 -8.371221       4  \n",
      "3  -7.918096  -9.588538  -6.189622 -7.857321       4  \n",
      "4 -10.583891 -15.589189 -10.083419 -3.547781       4  \n",
      "\n",
      "[5 rows x 26 columns]\n"
     ]
    }
   ],
   "source": [
    "#Reading a dataset and convert file name to corresbonding umnber\n",
    "\n",
    "import pandas as pd\n",
    "import csv\n",
    "from sklearn import preprocessing\n",
    "\n",
    "def preProcessData(csvFileName):\n",
    "    print(csvFileName+ \" will be preprocessed\")\n",
    "    data = pd.read_csv(csvFileName)\n",
    "    # we have three speakers: \n",
    "    # 0: Jackson\n",
    "    # 1: Nicolas \n",
    "    # 2: Theo\n",
    "    filenameArray = data['filename'] \n",
    "    speakerArray = []\n",
    "    #print(filenameArray)\n",
    "    for i in range(len(filenameArray)):\n",
    "        speaker = filenameArray[i][2]\n",
    "        #print(speaker)\n",
    "        if speaker == \"j\":\n",
    "            speaker = \"0\"\n",
    "        elif speaker == \"n\":\n",
    "            speaker = \"1\"\n",
    "        elif speaker == \"t\":\n",
    "            speaker = \"2\"\n",
    "        elif speaker == \"a\":\n",
    "            speaker = \"3\"\n",
    "        elif speaker == \"c\":\n",
    "            speaker = \"4\"\n",
    "        elif speaker == \"r\":\n",
    "            speaker = \"5\"\n",
    "        else: \n",
    "            speaker = \"6\"\n",
    "        #print(speaker)\n",
    "        speakerArray.append(speaker)\n",
    "    data['number'] = speakerArray\n",
    "    #Dropping unnecessary columns\n",
    "    data = data.drop(['filename'],axis=1)\n",
    "    data = data.drop(['label'],axis=1)\n",
    "    data = data.drop(['chroma_stft'],axis=1)\n",
    "    data.shape\n",
    "\n",
    "    print(\"Preprocessing is finished\")\n",
    "    print(data.head())\n",
    "    return data\n",
    "\n",
    "trainData = preProcessData(TRAIN_CSV_FILE)\n",
    "testData = preProcessData(TEST_CSV_FILE)\n",
    "rodolfoData = preProcessData(RODOLFO_CSV_FILE)\n",
    "ankurData = preProcessData(ANKUR_CSV_FILE)\n",
    "carolineData = preProcessData(CAROLINE_CSV_FILE)\n"
   ]
  },
  {
   "cell_type": "markdown",
   "metadata": {
    "colab_type": "text",
    "id": "GPbfaLTrap87"
   },
   "source": []
  },
  {
   "cell_type": "code",
   "execution_count": 5,
   "metadata": {
    "colab": {},
    "colab_type": "code",
    "id": "UEy6oG8RQmnN"
   },
   "outputs": [
    {
     "name": "stdout",
     "output_type": "stream",
     "text": [
      "(1050,)\n",
      "(450,)\n",
      "(30,)\n",
      "(10,)\n",
      "(10,)\n",
      "(10,)\n"
     ]
    }
   ],
   "source": [
    "# Splitting the dataset into training, validation and testing dataset\n",
    "from sklearn.model_selection import train_test_split\n",
    "X = np.array(trainData.iloc[:, :-1], dtype = float)\n",
    "y = trainData.iloc[:, -1]\n",
    "X_train, X_val, y_train, y_val = train_test_split(X, y, test_size=0.3, random_state=42)\n",
    "\n",
    "\n",
    "X_test = np.array(testData.iloc[:, :-1], dtype = float)\n",
    "y_test = testData.iloc[:, -1]\n",
    "\n",
    "X_rodolfo = np.array(rodolfoData.iloc[:, :-1], dtype = float)\n",
    "y_rodolfo = rodolfoData.iloc[:, -1]\n",
    "\n",
    "X_ankur = np.array(ankurData.iloc[:, :-1], dtype = float)\n",
    "y_ankur = ankurData.iloc[:, -1]\n",
    "\n",
    "X_caroline = np.array(carolineData.iloc[:, :-1], dtype = float)\n",
    "y_caroline = carolineData.iloc[:, -1]\n",
    "\n",
    "print(y_train.shape)\n",
    "print(y_val.shape)\n",
    "print(y_test.shape)\n",
    "print(y_rodolfo.shape)\n",
    "print(y_ankur.shape)\n",
    "print(y_caroline.shape)"
   ]
  },
  {
   "cell_type": "code",
   "execution_count": 6,
   "metadata": {
    "colab": {
     "base_uri": "https://localhost:8080/",
     "height": 34
    },
    "colab_type": "code",
    "id": "S1o-OccqP5Ax",
    "outputId": "c93e0d6f-f5c0-4208-b0e5-7ecba885cddc"
   },
   "outputs": [
    {
     "name": "stdout",
     "output_type": "stream",
     "text": [
      "(1050, 25)\n",
      "(450, 25)\n",
      "(30, 25)\n",
      "(10, 25)\n",
      "(10, 25)\n",
      "(10, 25)\n"
     ]
    }
   ],
   "source": [
    "#Normalizing the dataset\n",
    "from sklearn.preprocessing import StandardScaler\n",
    "import numpy as np\n",
    "scaler = StandardScaler()\n",
    "X_train = scaler.fit_transform( X_train )\n",
    "X_val = scaler.transform( X_val )\n",
    "X_test = scaler.transform( X_test )\n",
    "X_rodolfo = scaler.transform( X_rodolfo )\n",
    "X_ankur = scaler.transform( X_ankur )\n",
    "X_caroline = scaler.transform( X_caroline )\n",
    "\n",
    "print(X_train.shape)\n",
    "print(X_val.shape)\n",
    "print(X_test.shape)\n",
    "print(X_rodolfo.shape)\n",
    "print(X_ankur.shape)\n",
    "print(X_caroline.shape)\n"
   ]
  },
  {
   "cell_type": "code",
   "execution_count": 7,
   "metadata": {
    "colab": {
     "base_uri": "https://localhost:8080/",
     "height": 203
    },
    "colab_type": "code",
    "id": "Q06tYXcdQZFp",
    "outputId": "8ab73b51-7592-450c-b152-8746e2f11b87"
   },
   "outputs": [
    {
     "name": "stderr",
     "output_type": "stream",
     "text": [
      "Using TensorFlow backend.\n"
     ]
    }
   ],
   "source": [
    "#Creating a Model\n",
    "from keras import models\n",
    "from keras import layers\n",
    "import keras\n",
    "\n",
    "# model 1\n",
    "model = models.Sequential()\n",
    "model.add(layers.Dense(256, activation='relu', input_shape=(X_train.shape[1],)))\n",
    "model.add(layers.Dropout(0.5))\n",
    "model.add(layers.Dense(128, activation='relu'))\n",
    "model.add(layers.Dropout(0.5))\n",
    "model.add(layers.Dense(64, activation='relu'))\n",
    "model.add(layers.Dropout(0.5))\n",
    "model.add(layers.Dense(10, activation='softmax'))\n",
    "\n"
   ]
  },
  {
   "cell_type": "code",
   "execution_count": 8,
   "metadata": {
    "colab": {
     "base_uri": "https://localhost:8080/",
     "height": 106
    },
    "colab_type": "code",
    "id": "mJH2-yaTRHxV",
    "outputId": "bef3ccf8-289d-4202-bdc2-86f3b16d3bac"
   },
   "outputs": [],
   "source": [
    "# Learning Process of a model\n",
    "model.compile(optimizer='adam',\n",
    "              loss='sparse_categorical_crossentropy',\n",
    "              metrics=['accuracy'])\n"
   ]
  },
  {
   "cell_type": "code",
   "execution_count": 9,
   "metadata": {
    "colab": {},
    "colab_type": "code",
    "id": "fTcYgQO8Z5u-"
   },
   "outputs": [],
   "source": [
    "# simple early stopping\n",
    "from keras.callbacks import EarlyStopping\n",
    "\n",
    "es = EarlyStopping(monitor='val_loss', mode='min', verbose=1)"
   ]
  },
  {
   "cell_type": "code",
   "execution_count": 10,
   "metadata": {
    "colab": {
     "base_uri": "https://localhost:8080/",
     "height": 808
    },
    "colab_type": "code",
    "id": "iBDSdjwbaNzg",
    "outputId": "5c9ac6d9-a441-4fde-e157-803437bb0250"
   },
   "outputs": [
    {
     "name": "stdout",
     "output_type": "stream",
     "text": [
      "Train on 1050 samples, validate on 450 samples\n",
      "Epoch 1/50\n",
      "1050/1050 [==============================] - 0s 334us/step - loss: 2.2817 - accuracy: 0.1857 - val_loss: 1.7404 - val_accuracy: 0.6044\n",
      "Epoch 2/50\n",
      "1050/1050 [==============================] - 0s 37us/step - loss: 1.5879 - accuracy: 0.4848 - val_loss: 1.1591 - val_accuracy: 0.7800\n",
      "Epoch 3/50\n",
      "1050/1050 [==============================] - 0s 38us/step - loss: 1.1431 - accuracy: 0.6219 - val_loss: 0.6928 - val_accuracy: 0.9133\n",
      "Epoch 4/50\n",
      "1050/1050 [==============================] - 0s 42us/step - loss: 0.8276 - accuracy: 0.7333 - val_loss: 0.4181 - val_accuracy: 0.9156\n",
      "Epoch 5/50\n",
      "1050/1050 [==============================] - 0s 50us/step - loss: 0.6313 - accuracy: 0.8143 - val_loss: 0.2790 - val_accuracy: 0.9311\n",
      "Epoch 6/50\n",
      "1050/1050 [==============================] - 0s 50us/step - loss: 0.4443 - accuracy: 0.8829 - val_loss: 0.2062 - val_accuracy: 0.9600\n",
      "Epoch 7/50\n",
      "1050/1050 [==============================] - 0s 61us/step - loss: 0.3299 - accuracy: 0.9124 - val_loss: 0.1681 - val_accuracy: 0.9644\n",
      "Epoch 8/50\n",
      "1050/1050 [==============================] - 0s 60us/step - loss: 0.3032 - accuracy: 0.9267 - val_loss: 0.1394 - val_accuracy: 0.9689\n",
      "Epoch 9/50\n",
      "1050/1050 [==============================] - 0s 51us/step - loss: 0.2600 - accuracy: 0.9343 - val_loss: 0.1209 - val_accuracy: 0.9689\n",
      "Epoch 10/50\n",
      "1050/1050 [==============================] - 0s 44us/step - loss: 0.2151 - accuracy: 0.9467 - val_loss: 0.1028 - val_accuracy: 0.9689\n",
      "Epoch 11/50\n",
      "1050/1050 [==============================] - 0s 43us/step - loss: 0.1891 - accuracy: 0.9476 - val_loss: 0.0935 - val_accuracy: 0.9711\n",
      "Epoch 12/50\n",
      "1050/1050 [==============================] - 0s 45us/step - loss: 0.1616 - accuracy: 0.9581 - val_loss: 0.0869 - val_accuracy: 0.9733\n",
      "Epoch 13/50\n",
      "1050/1050 [==============================] - 0s 46us/step - loss: 0.1472 - accuracy: 0.9524 - val_loss: 0.0788 - val_accuracy: 0.9733\n",
      "Epoch 14/50\n",
      "1050/1050 [==============================] - 0s 44us/step - loss: 0.1424 - accuracy: 0.9629 - val_loss: 0.0730 - val_accuracy: 0.9778\n",
      "Epoch 15/50\n",
      "1050/1050 [==============================] - 0s 43us/step - loss: 0.1302 - accuracy: 0.9657 - val_loss: 0.0689 - val_accuracy: 0.9778\n",
      "Epoch 16/50\n",
      "1050/1050 [==============================] - 0s 41us/step - loss: 0.1283 - accuracy: 0.9629 - val_loss: 0.0629 - val_accuracy: 0.9800\n",
      "Epoch 17/50\n",
      "1050/1050 [==============================] - 0s 41us/step - loss: 0.1067 - accuracy: 0.9695 - val_loss: 0.0607 - val_accuracy: 0.9800\n",
      "Epoch 18/50\n",
      "1050/1050 [==============================] - 0s 51us/step - loss: 0.0984 - accuracy: 0.9743 - val_loss: 0.0576 - val_accuracy: 0.9800\n",
      "Epoch 19/50\n",
      "1050/1050 [==============================] - 0s 59us/step - loss: 0.0975 - accuracy: 0.9724 - val_loss: 0.0564 - val_accuracy: 0.9778\n",
      "Epoch 20/50\n",
      "1050/1050 [==============================] - 0s 49us/step - loss: 0.0832 - accuracy: 0.9781 - val_loss: 0.0551 - val_accuracy: 0.9778\n",
      "Epoch 21/50\n",
      "1050/1050 [==============================] - 0s 54us/step - loss: 0.0776 - accuracy: 0.9752 - val_loss: 0.0529 - val_accuracy: 0.9800\n",
      "Epoch 22/50\n",
      "1050/1050 [==============================] - 0s 46us/step - loss: 0.0842 - accuracy: 0.9800 - val_loss: 0.0511 - val_accuracy: 0.9822\n",
      "Epoch 23/50\n",
      "1050/1050 [==============================] - 0s 40us/step - loss: 0.0757 - accuracy: 0.9752 - val_loss: 0.0492 - val_accuracy: 0.9800\n",
      "Epoch 24/50\n",
      "1050/1050 [==============================] - 0s 37us/step - loss: 0.0703 - accuracy: 0.9762 - val_loss: 0.0504 - val_accuracy: 0.9800\n",
      "Epoch 00024: early stopping\n"
     ]
    }
   ],
   "source": [
    "#Train with early stopping to avoid overfitting\n",
    "history = model.fit(X_train,\n",
    "                    y_train,\n",
    "                    validation_data=(X_val, y_val),\n",
    "                    epochs=50,\n",
    "                    batch_size=128, \n",
    "                    callbacks=[es])\n",
    "\n"
   ]
  },
  {
   "cell_type": "code",
   "execution_count": 11,
   "metadata": {
    "colab": {
     "base_uri": "https://localhost:8080/",
     "height": 267
    },
    "colab_type": "code",
    "id": "z3nvtYKVa5HD",
    "outputId": "b858b37f-8e47-4cb4-a737-ef960246254b"
   },
   "outputs": [
    {
     "data": {
      "image/png": "[encoded data removed]",
      "text/plain": [
       "<Figure size 432x288 with 1 Axes>"
      ]
     },
     "metadata": {
      "needs_background": "light"
     },
     "output_type": "display_data"
    }
   ],
   "source": [
    "# plot training history\n",
    "from matplotlib import pyplot\n",
    "pyplot.plot(history.history['loss'], label='train')\n",
    "pyplot.plot(history.history['val_loss'], label='test')\n",
    "pyplot.legend()\n",
    "pyplot.show()"
   ]
  },
  {
   "cell_type": "code",
   "execution_count": 12,
   "metadata": {},
   "outputs": [],
   "source": [
    "def getSpeaker(speaker):\n",
    "    speaker = str(speaker)\n",
    "    if speaker == \"0\":\n",
    "        return \"Jackson\"\n",
    "    elif speaker == \"1\":\n",
    "        return \"Nicola\"\n",
    "    elif speaker == \"2\":\n",
    "        return \"Theo\"\n",
    "    elif speaker == \"3\":\n",
    "        return \"Ankur\"\n",
    "    elif speaker == \"4\":\n",
    "        return \"Caroline\"\n",
    "    elif speaker == \"5\":\n",
    "        return \"Rodolfo\"\n",
    "    else: \n",
    "        speaker = \"Unknown\"\n",
    "        \n",
    "def printPrediction(X_data, y_data, printDigit):\n",
    "    print('\\n# Generate predictions')\n",
    "    for i in range(len(y_data)):\n",
    "        prediction = getSpeaker(model.predict_classes(X_data[i:i+1])[0])\n",
    "        speaker = getSpeaker(y_data[i])\n",
    "        if printDigit == True:\n",
    "            print(\"Number={0:d}, y={1:10s}- prediction={2:10s}- match={3}\".format(i, speaker, prediction, speaker==prediction))\n",
    "        else:\n",
    "            print(\"y={0:10s}- prediction={1:10s}- match={2}\".format(speaker, prediction, speaker==prediction))"
   ]
  },
  {
   "cell_type": "code",
   "execution_count": 13,
   "metadata": {
    "colab": {
     "base_uri": "https://localhost:8080/",
     "height": 86
    },
    "colab_type": "code",
    "id": "HSVxu84pRgZa",
    "outputId": "eb9242c9-7bff-4d54-a58c-60a915aad7d2"
   },
   "outputs": [
    {
     "name": "stdout",
     "output_type": "stream",
     "text": [
      "\n",
      "# TEST DATA #\n",
      "\n",
      "30/30 [==============================] - 0s 33us/step\n",
      "accuracy: 100.00%\n",
      "\n",
      "# Generate predictions\n",
      "y=Jackson   - prediction=Jackson   - match=True\n",
      "y=Nicola    - prediction=Nicola    - match=True\n",
      "y=Theo      - prediction=Theo      - match=True\n",
      "y=Jackson   - prediction=Jackson   - match=True\n",
      "y=Nicola    - prediction=Nicola    - match=True\n",
      "y=Theo      - prediction=Theo      - match=True\n",
      "y=Jackson   - prediction=Jackson   - match=True\n",
      "y=Nicola    - prediction=Nicola    - match=True\n",
      "y=Theo      - prediction=Theo      - match=True\n",
      "y=Jackson   - prediction=Jackson   - match=True\n",
      "y=Nicola    - prediction=Nicola    - match=True\n",
      "y=Theo      - prediction=Theo      - match=True\n",
      "y=Jackson   - prediction=Jackson   - match=True\n",
      "y=Nicola    - prediction=Nicola    - match=True\n",
      "y=Theo      - prediction=Theo      - match=True\n",
      "y=Jackson   - prediction=Jackson   - match=True\n",
      "y=Nicola    - prediction=Nicola    - match=True\n",
      "y=Theo      - prediction=Theo      - match=True\n",
      "y=Jackson   - prediction=Jackson   - match=True\n",
      "y=Nicola    - prediction=Nicola    - match=True\n",
      "y=Theo      - prediction=Theo      - match=True\n",
      "y=Jackson   - prediction=Jackson   - match=True\n",
      "y=Nicola    - prediction=Nicola    - match=True\n",
      "y=Theo      - prediction=Theo      - match=True\n",
      "y=Jackson   - prediction=Jackson   - match=True\n",
      "y=Nicola    - prediction=Nicola    - match=True\n",
      "y=Theo      - prediction=Theo      - match=True\n",
      "y=Jackson   - prediction=Jackson   - match=True\n",
      "y=Nicola    - prediction=Nicola    - match=True\n",
      "y=Theo      - prediction=Theo      - match=True\n"
     ]
    }
   ],
   "source": [
    "print('\\n# TEST DATA #\\n')\n",
    "score = model.evaluate(X_test, y_test)\n",
    "print(\"%s: %.2f%%\" % (model.metrics_names[1], score[1]*100))\n",
    "\n",
    "# Prediction\n",
    "printPrediction(X_test, y_test, False)"
   ]
  },
  {
   "cell_type": "code",
   "execution_count": 14,
   "metadata": {
    "scrolled": true
   },
   "outputs": [
    {
     "name": "stdout",
     "output_type": "stream",
     "text": [
      "\n",
      "# RODOLFO DATA #\n",
      "\n",
      "10/10 [==============================] - 0s 405us/step\n",
      "accuracy: 10.00%\n",
      "\n",
      "# Generate predictions\n",
      "Number=0, y=Rodolfo   - prediction=Jackson   - match=False\n",
      "Number=1, y=Rodolfo   - prediction=Ankur     - match=False\n",
      "Number=2, y=Rodolfo   - prediction=Ankur     - match=False\n",
      "Number=3, y=Rodolfo   - prediction=Rodolfo   - match=True\n",
      "Number=4, y=Rodolfo   - prediction=Jackson   - match=False\n",
      "Number=5, y=Rodolfo   - prediction=Caroline  - match=False\n",
      "Number=6, y=Rodolfo   - prediction=Jackson   - match=False\n",
      "Number=7, y=Rodolfo   - prediction=Caroline  - match=False\n",
      "Number=8, y=Rodolfo   - prediction=Jackson   - match=False\n",
      "Number=9, y=Rodolfo   - prediction=Caroline  - match=False\n"
     ]
    }
   ],
   "source": [
    "print('\\n# RODOLFO DATA #\\n')\n",
    "score = model.evaluate(X_rodolfo, y_rodolfo)\n",
    "print(\"%s: %.2f%%\" % (model.metrics_names[1], score[1]*100))\n",
    "\n",
    "# Prediction\n",
    "printPrediction(X_rodolfo, y_rodolfo, True)\n"
   ]
  },
  {
   "cell_type": "code",
   "execution_count": 15,
   "metadata": {},
   "outputs": [
    {
     "name": "stdout",
     "output_type": "stream",
     "text": [
      "\n",
      "# ANKUR DATA #\n",
      "\n",
      "10/10 [==============================] - 0s 100us/step\n",
      "accuracy: 100.00%\n",
      "\n",
      "# Generate predictions\n",
      "Number=0, y=Ankur     - prediction=Ankur     - match=True\n",
      "Number=1, y=Ankur     - prediction=Ankur     - match=True\n",
      "Number=2, y=Ankur     - prediction=Ankur     - match=True\n",
      "Number=3, y=Ankur     - prediction=Ankur     - match=True\n",
      "Number=4, y=Ankur     - prediction=Ankur     - match=True\n",
      "Number=5, y=Ankur     - prediction=Ankur     - match=True\n",
      "Number=6, y=Ankur     - prediction=Ankur     - match=True\n",
      "Number=7, y=Ankur     - prediction=Ankur     - match=True\n",
      "Number=8, y=Ankur     - prediction=Ankur     - match=True\n",
      "Number=9, y=Ankur     - prediction=Ankur     - match=True\n"
     ]
    }
   ],
   "source": [
    "print('\\n# ANKUR DATA #\\n')\n",
    "score = model.evaluate(X_ankur, y_ankur)\n",
    "print(\"%s: %.2f%%\" % (model.metrics_names[1], score[1]*100))\n",
    "\n",
    "# Predection\n",
    "printPrediction(X_ankur, y_ankur, True)"
   ]
  },
  {
   "cell_type": "code",
   "execution_count": 16,
   "metadata": {},
   "outputs": [
    {
     "name": "stdout",
     "output_type": "stream",
     "text": [
      "\n",
      "# CAROLINE DATA #\n",
      "\n",
      "10/10 [==============================] - 0s 100us/step\n",
      "accuracy: 50.00%\n",
      "\n",
      "# Generate predictions\n",
      "Number=0, y=Caroline  - prediction=Caroline  - match=True\n",
      "Number=1, y=Caroline  - prediction=Caroline  - match=True\n",
      "Number=2, y=Caroline  - prediction=Caroline  - match=True\n",
      "Number=3, y=Caroline  - prediction=Caroline  - match=True\n",
      "Number=4, y=Caroline  - prediction=Jackson   - match=False\n",
      "Number=5, y=Caroline  - prediction=Ankur     - match=False\n",
      "Number=6, y=Caroline  - prediction=Ankur     - match=False\n",
      "Number=7, y=Caroline  - prediction=Ankur     - match=False\n",
      "Number=8, y=Caroline  - prediction=Ankur     - match=False\n",
      "Number=9, y=Caroline  - prediction=Caroline  - match=True\n"
     ]
    }
   ],
   "source": [
    "print('\\n# CAROLINE DATA #\\n')\n",
    "score = model.evaluate(X_caroline, y_caroline)\n",
    "print(\"%s: %.2f%%\" % (model.metrics_names[1], score[1]*100))\n",
    "\n",
    "# Predection\n",
    "printPrediction(X_caroline, y_caroline, True)"
   ]
  },
  {
   "cell_type": "code",
   "execution_count": 17,
   "metadata": {},
   "outputs": [],
   "source": [
    "import numpy as np\n",
    "from keras import backend as K\n",
    "from keras.models import Sequential\n",
    "from keras.layers.core import Dense, Dropout, Activation, Flatten\n",
    "from keras.layers.convolutional import Convolution2D, MaxPooling2D\n",
    "from keras.preprocessing.image import ImageDataGenerator\n",
    "from sklearn.metrics import classification_report, confusion_matrix\n",
    "\n",
    "def report(X_data, y_data):\n",
    "    #Confution Matrix and Classification Report\n",
    "    Y_pred = model.predict_classes(X_data)\n",
    "    y_data_num = y_data.astype(np.int64)\n",
    "    print('Confusion Matrix')\n",
    "    print(confusion_matrix(y_data_num, Y_pred))\n",
    "    print('\\nClassification Report')\n",
    "    target_names = [\"Jackson\", \"Nicola\", \"Theo\", \"Ankur\", \"Caroline\", \"Rodolfo\", \"Unknown\"]\n",
    "    print(classification_report(y_data_num, Y_pred))\n"
   ]
  },
  {
   "cell_type": "code",
   "execution_count": 18,
   "metadata": {},
   "outputs": [
    {
     "name": "stdout",
     "output_type": "stream",
     "text": [
      "Classification Report for Train Data\n",
      "\n",
      "Confusion Matrix\n",
      "[[347   0   0   0   0   0]\n",
      " [  0 343   0   0   0   0]\n",
      " [  1   0 337   0   0   0]\n",
      " [  0   0   0   9   0   0]\n",
      " [  1   0   0   4   2   0]\n",
      " [  0   0   0   6   0   0]]\n",
      "\n",
      "Classification Report\n",
      "              precision    recall  f1-score   support\n",
      "\n",
      "           0       0.99      1.00      1.00       347\n",
      "           1       1.00      1.00      1.00       343\n",
      "           2       1.00      1.00      1.00       338\n",
      "           3       0.47      1.00      0.64         9\n",
      "           4       1.00      0.29      0.44         7\n",
      "           5       0.00      0.00      0.00         6\n",
      "\n",
      "    accuracy                           0.99      1050\n",
      "   macro avg       0.74      0.71      0.68      1050\n",
      "weighted avg       0.99      0.99      0.99      1050\n",
      "\n",
      "Classification Report for Validation Data\n",
      "\n",
      "Confusion Matrix\n",
      "[[142   1   0   0   0   0]\n",
      " [  0 147   0   0   0   0]\n",
      " [  2   0 150   0   0   0]\n",
      " [  0   0   0   1   0   0]\n",
      " [  0   0   0   2   1   0]\n",
      " [  0   0   0   4   0   0]]\n",
      "\n",
      "Classification Report\n",
      "              precision    recall  f1-score   support\n",
      "\n",
      "           0       0.99      0.99      0.99       143\n",
      "           1       0.99      1.00      1.00       147\n",
      "           2       1.00      0.99      0.99       152\n",
      "           3       0.14      1.00      0.25         1\n",
      "           4       1.00      0.33      0.50         3\n",
      "           5       0.00      0.00      0.00         4\n",
      "\n",
      "    accuracy                           0.98       450\n",
      "   macro avg       0.69      0.72      0.62       450\n",
      "weighted avg       0.98      0.98      0.98       450\n",
      "\n",
      "Classification Report for Test Data\n",
      "\n",
      "Confusion Matrix\n",
      "[[10  0  0]\n",
      " [ 0 10  0]\n",
      " [ 0  0 10]]\n",
      "\n",
      "Classification Report\n",
      "              precision    recall  f1-score   support\n",
      "\n",
      "           0       1.00      1.00      1.00        10\n",
      "           1       1.00      1.00      1.00        10\n",
      "           2       1.00      1.00      1.00        10\n",
      "\n",
      "    accuracy                           1.00        30\n",
      "   macro avg       1.00      1.00      1.00        30\n",
      "weighted avg       1.00      1.00      1.00        30\n",
      "\n",
      "Classification Report for Ankur\n",
      "\n",
      "Confusion Matrix\n",
      "[[10]]\n",
      "\n",
      "Classification Report\n",
      "              precision    recall  f1-score   support\n",
      "\n",
      "           3       1.00      1.00      1.00        10\n",
      "\n",
      "    accuracy                           1.00        10\n",
      "   macro avg       1.00      1.00      1.00        10\n",
      "weighted avg       1.00      1.00      1.00        10\n",
      "\n",
      "Classification Report for Caroline\n",
      "\n",
      "Confusion Matrix\n",
      "[[0 0 0]\n",
      " [0 0 0]\n",
      " [1 4 5]]\n",
      "\n",
      "Classification Report\n",
      "              precision    recall  f1-score   support\n",
      "\n",
      "           0       0.00      0.00      0.00         0\n",
      "           3       0.00      0.00      0.00         0\n",
      "           4       1.00      0.50      0.67        10\n",
      "\n",
      "    accuracy                           0.50        10\n",
      "   macro avg       0.33      0.17      0.22        10\n",
      "weighted avg       1.00      0.50      0.67        10\n",
      "\n",
      "Classification Report for Rodolfo\n",
      "\n",
      "Confusion Matrix\n",
      "[[0 0 0 0]\n",
      " [0 0 0 0]\n",
      " [0 0 0 0]\n",
      " [4 2 3 1]]\n",
      "\n",
      "Classification Report\n",
      "              precision    recall  f1-score   support\n",
      "\n",
      "           0       0.00      0.00      0.00         0\n",
      "           3       0.00      0.00      0.00         0\n",
      "           4       0.00      0.00      0.00         0\n",
      "           5       1.00      0.10      0.18        10\n",
      "\n",
      "    accuracy                           0.10        10\n",
      "   macro avg       0.25      0.03      0.05        10\n",
      "weighted avg       1.00      0.10      0.18        10\n",
      "\n"
     ]
    },
    {
     "name": "stderr",
     "output_type": "stream",
     "text": [
      "c:\\users\\erodvas\\env\\lib\\site-packages\\sklearn\\metrics\\classification.py:1437: UndefinedMetricWarning: Precision and F-score are ill-defined and being set to 0.0 in labels with no predicted samples.\n",
      "  'precision', 'predicted', average, warn_for)\n",
      "c:\\users\\erodvas\\env\\lib\\site-packages\\sklearn\\metrics\\classification.py:1439: UndefinedMetricWarning: Recall and F-score are ill-defined and being set to 0.0 in labels with no true samples.\n",
      "  'recall', 'true', average, warn_for)\n"
     ]
    }
   ],
   "source": [
    "print(\"Classification Report for Train Data\\n\")\n",
    "report(X_train, y_train)\n",
    "\n",
    "print(\"Classification Report for Validation Data\\n\")\n",
    "report(X_val, y_val)\n",
    "\n",
    "print(\"Classification Report for Test Data\\n\")\n",
    "report(X_test, y_test)\n",
    "\n",
    "print(\"Classification Report for Ankur\\n\")\n",
    "report(X_ankur, y_ankur)\n",
    "\n",
    "print(\"Classification Report for Caroline\\n\")\n",
    "report(X_caroline, y_caroline)\n",
    "\n",
    "print(\"Classification Report for Rodolfo\\n\")\n",
    "report(X_rodolfo, y_rodolfo)"
   ]
  },
  {
   "cell_type": "code",
   "execution_count": null,
   "metadata": {},
   "outputs": [],
   "source": []
  }
 ],
 "metadata": {
  "accelerator": "GPU",
  "colab": {
   "name": "sound-regnize-Keras.ipynb",
   "provenance": []
  },
  "kernelspec": {
   "display_name": "Python 3",
   "language": "python",
   "name": "python3"
  },
  "language_info": {
   "codemirror_mode": {
    "name": "ipython",
    "version": 3
   },
   "file_extension": ".py",
   "mimetype": "text/x-python",
   "name": "python",
   "nbconvert_exporter": "python",
   "pygments_lexer": "ipython3",
   "version": "3.6.8"
  }
 },
 "nbformat": 4,
 "nbformat_minor": 1
}
