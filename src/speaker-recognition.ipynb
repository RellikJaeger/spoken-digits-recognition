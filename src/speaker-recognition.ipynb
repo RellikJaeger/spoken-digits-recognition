{
 "cells": [
  {
   "cell_type": "code",
   "execution_count": 1,
   "metadata": {},
   "outputs": [],
   "source": [
    "TRAIN_CSV_FILE = \"train.csv\"\n",
    "TEST_CSV_FILE = \"test.csv\"\n",
    "RODOLFO_CSV_FILE = \"rodolfo.csv\"\n",
    "ANKUR_CSV_FILE = \"ankur.csv\"\n",
    "CAROLINE_CSV_FILE = \"caroline.csv\""
   ]
  },
  {
   "cell_type": "code",
   "execution_count": 2,
   "metadata": {
    "colab": {
     "base_uri": "https://localhost:8080/",
     "height": 71
    },
    "colab_type": "code",
    "id": "FIUhv3GI8FOF",
    "outputId": "5adb2545-0d54-4494-c1bb-6fbb9f69ed45"
   },
   "outputs": [],
   "source": [
    "import matplotlib.pyplot as plt\n",
    "import numpy as np\n",
    "from matplotlib import cm\n",
    "import librosa\n",
    "import csv\n",
    "import os\n",
    "\n",
    "def extractWavFeatures(soundFilesFolder, csvFileName):\n",
    "    print(\"The features of the files in the folder \"+soundFilesFolder+\" will be saved to \"+csvFileName)\n",
    "    header = 'filename chroma_stft rmse spectral_centroid spectral_bandwidth rolloff zero_crossing_rate'\n",
    "    for i in range(1, 21):\n",
    "        header += f' mfcc{i}'\n",
    "    header += ' label'\n",
    "    header = header.split()\n",
    "    print('CSV Header: ', header)\n",
    "    file = open(csvFileName, 'w', newline='')\n",
    "    #with file:\n",
    "    writer = csv.writer(file)\n",
    "    writer.writerow(header)\n",
    "    genres = '1 2 3 4 5 6 7 8 9 0'.split()\n",
    "    for filename in os.listdir(soundFilesFolder):\n",
    "        number = f'{soundFilesFolder}/{filename}'\n",
    "        y, sr = librosa.load(number, mono=True, duration=30)\n",
    "        # remove leading and trailing silence\n",
    "        y, index = librosa.effects.trim(y)\n",
    "        chroma_stft = librosa.feature.chroma_stft(y=y, sr=sr)\n",
    "        rmse = librosa.feature.rms(y=y)\n",
    "        spec_cent = librosa.feature.spectral_centroid(y=y, sr=sr)\n",
    "        spec_bw = librosa.feature.spectral_bandwidth(y=y, sr=sr)\n",
    "        rolloff = librosa.feature.spectral_rolloff(y=y, sr=sr)\n",
    "        zcr = librosa.feature.zero_crossing_rate(y)\n",
    "        mfcc = librosa.feature.mfcc(y=y, sr=sr)\n",
    "        to_append = f'{filename} {np.mean(chroma_stft)} {np.mean(rmse)} {np.mean(spec_cent)} {np.mean(spec_bw)} {np.mean(rolloff)} {np.mean(zcr)}'\n",
    "        for e in mfcc:\n",
    "            to_append += f' {np.mean(e)}'\n",
    "        #file = open('data.csv', 'a', newline='')\n",
    "        #with file:\n",
    "        #    writer = csv.writer(file)\n",
    "        writer.writerow(to_append.split())\n",
    "    file.close()\n",
    "    print(\"End of extractWavFeatures\")\n",
    "\n",
    "# comment these lines if you already have train.csv and test.csv files\n",
    "#extractWavFeatures(\"../data/recordings/train\", TRAIN_CSV_FILE)\n",
    "#extractWavFeatures(\"../data/recordings/test\", TEST_CSV_FILE)\n",
    "#extractWavFeatures(\"../data/recordings/rodolfo\", RODOLFO_CSV_FILE)\n",
    "#extractWavFeatures(\"../data/recordings/ankur\", ANKUR_CSV_FILE)\n",
    "#extractWavFeatures(\"../data/recordings/caroline\", CAROLINE_CSV_FILE)\n",
    "\n"
   ]
  },
  {
   "cell_type": "code",
   "execution_count": 3,
   "metadata": {
    "colab": {
     "base_uri": "https://localhost:8080/",
     "height": 223
    },
    "colab_type": "code",
    "id": "_TZXrWYiNqCj",
    "outputId": "7d1d926e-64fa-4855-df66-207a97778915"
   },
   "outputs": [
    {
     "name": "stdout",
     "output_type": "stream",
     "text": [
      "train.csv will be preprocessed\n",
      "Preprocessing is finished\n",
      "       rmse  spectral_centroid  spectral_bandwidth      rolloff  \\\n",
      "0  0.112672         741.829081          758.492178  1438.494873   \n",
      "1  0.090344         635.610880          670.336296  1160.452403   \n",
      "2  0.091456         667.786694          732.606545  1257.180176   \n",
      "3  0.087751         712.304185          731.292437  1449.104818   \n",
      "4  0.096603         844.363886          777.868127  1569.583263   \n",
      "\n",
      "   zero_crossing_rate       mfcc1       mfcc2      mfcc3      mfcc4  \\\n",
      "0            0.034023 -295.578461  189.853683 -19.606564   6.078507   \n",
      "1            0.033458 -339.148743  204.005249  -7.485526  14.297898   \n",
      "2            0.033268 -327.507416  195.596924  -3.994768  21.315840   \n",
      "3            0.035916 -320.809937  200.023743  -8.186146  12.661074   \n",
      "4            0.049465 -315.801300  195.674118 -13.324564   3.544238   \n",
      "\n",
      "       mfcc5  ...     mfcc12    mfcc13     mfcc14     mfcc15    mfcc16  \\\n",
      "0  22.067095  ... -25.725817 -5.172223  -8.323026 -10.299589 -0.144793   \n",
      "1  20.885136  ... -23.196365 -1.290891  -5.515564 -15.416287  0.405876   \n",
      "2  18.372593  ... -18.677113 -3.098450 -10.447586 -10.053793  3.248016   \n",
      "3  15.654718  ... -20.832333 -1.118007  -6.681235 -11.685319  2.010999   \n",
      "4  12.279986  ... -18.158249  6.031695  -6.353736 -15.983871  1.465030   \n",
      "\n",
      "      mfcc17     mfcc18    mfcc19     mfcc20  number  \n",
      "0  -9.017329  -4.569392  2.881349 -15.627436       0  \n",
      "1  -3.624587 -11.204143 -0.096359  -6.751650       0  \n",
      "2 -11.686995 -10.726046  6.857377  -9.067446       0  \n",
      "3  -5.946658  -6.905020  4.136240  -9.614882       0  \n",
      "4  -5.109472  -8.666434  5.026890  -5.346444       0  \n",
      "\n",
      "[5 rows x 26 columns]\n",
      "test.csv will be preprocessed\n",
      "Preprocessing is finished\n",
      "       rmse  spectral_centroid  spectral_bandwidth      rolloff  \\\n",
      "0  0.095394         756.450712          761.875940  1463.941148   \n",
      "1  0.040176         791.046914         1039.695939  2027.709961   \n",
      "2  0.006984         958.934867          941.639039  2084.106445   \n",
      "3  0.071547         759.877794          899.957003  1427.553489   \n",
      "4  0.030382         968.793389         1024.834851  1911.968994   \n",
      "\n",
      "   zero_crossing_rate       mfcc1       mfcc2      mfcc3      mfcc4  \\\n",
      "0            0.037296 -328.263885  180.479416  -0.485355  15.525293   \n",
      "1            0.031440 -385.602570  189.328186 -37.268154  59.937920   \n",
      "2            0.040039 -542.812622  217.971329 -62.197266  21.537390   \n",
      "3            0.030429 -355.530396  204.388977 -20.676432  26.671131   \n",
      "4            0.045654 -376.499390  237.137833 -59.964413  37.715607   \n",
      "\n",
      "       mfcc5  ...     mfcc12     mfcc13     mfcc14     mfcc15     mfcc16  \\\n",
      "0  20.992447  ... -15.426966   7.284101  -6.443027 -13.377846  -2.407696   \n",
      "1  45.049831  ... -31.051588   3.420474  -9.762264 -11.220519  12.306476   \n",
      "2  37.756233  ... -26.797358   5.341060 -12.159102 -14.180812   9.346475   \n",
      "3  15.797892  ... -18.198524   4.029843 -10.552087 -21.039103  -5.634320   \n",
      "4  21.510382  ... -21.805593  13.740063  -6.738161  -9.305484  13.205662   \n",
      "\n",
      "      mfcc17     mfcc18    mfcc19     mfcc20  number  \n",
      "0 -12.902534 -10.437113 -1.025342 -15.457672       0  \n",
      "1  -5.082399  -3.775387  9.707520  -8.757109       1  \n",
      "2 -10.899978  -9.715154  5.997578 -12.574761       2  \n",
      "3 -14.788965 -11.016036 -1.313916 -16.993853       0  \n",
      "4 -11.917943  -7.877903  9.777577 -10.397771       1  \n",
      "\n",
      "[5 rows x 26 columns]\n",
      "rodolfo.csv will be preprocessed\n",
      "Preprocessing is finished\n",
      "       rmse  spectral_centroid  spectral_bandwidth      rolloff  \\\n",
      "0  0.008317        1373.587651         1557.257439  2760.556641   \n",
      "1  0.048584        1242.294550         1378.050574  2383.379075   \n",
      "2  0.039969        1050.341365         1156.788787  1898.314092   \n",
      "3  0.045370         965.728412         1111.864011  1680.850797   \n",
      "4  0.029217        1156.914831         1191.260286  2001.954561   \n",
      "\n",
      "   zero_crossing_rate       mfcc1       mfcc2      mfcc3      mfcc4     mfcc5  \\\n",
      "0            0.111194 -554.671326  112.900902  -5.204185   5.174080  0.961532   \n",
      "1            0.067327 -406.895966   78.145576   7.975791  -0.161837 -0.739024   \n",
      "2            0.057704 -434.584381  118.474503   4.509044 -12.330981 -0.058598   \n",
      "3            0.055466 -391.058044  118.877228   9.990429  -8.200327 -5.073896   \n",
      "4            0.074067 -431.939362   73.791481  10.058946   0.912879  1.185972   \n",
      "\n",
      "   ...     mfcc12    mfcc13     mfcc14     mfcc15     mfcc16    mfcc17  \\\n",
      "0  ... -19.478588 -8.595084  -9.416130 -11.326737  -7.875760 -4.547922   \n",
      "1  ... -12.625601 -4.783141  -5.790734  -9.106943  -7.587335 -3.589458   \n",
      "2  ... -12.936478 -9.691850 -13.955086 -15.708996  -8.697224 -3.517770   \n",
      "3  ... -14.572618 -7.349220  -9.846146 -14.258271 -12.930642 -6.839942   \n",
      "4  ... -16.655899 -5.011937  -1.344434  -7.106132 -13.455217 -9.678862   \n",
      "\n",
      "     mfcc18    mfcc19    mfcc20  number  \n",
      "0 -4.123662 -3.577396 -1.753110       3  \n",
      "1 -0.378289 -1.403781 -3.354160       3  \n",
      "2 -2.807766 -3.649467 -1.719996       3  \n",
      "3 -0.786880 -3.390382 -3.145030       3  \n",
      "4 -3.503516 -1.042273 -0.753218       3  \n",
      "\n",
      "[5 rows x 26 columns]\n",
      "ankur.csv will be preprocessed\n",
      "Preprocessing is finished\n",
      "       rmse  spectral_centroid  spectral_bandwidth      rolloff  \\\n",
      "0  0.020789        2392.351810         2281.427073  4573.914234   \n",
      "1  0.006844        4050.306025         2689.667335  6987.657335   \n",
      "2  0.017122        3595.192685         2451.007929  5909.141602   \n",
      "3  0.015548        3437.973763         2536.889008  6185.633829   \n",
      "4  0.074161        3189.364285         2229.460877  5514.937721   \n",
      "\n",
      "   zero_crossing_rate       mfcc1      mfcc2      mfcc3      mfcc4      mfcc5  \\\n",
      "0            0.207137 -424.652710  92.448662   2.560777   7.676809 -12.071417   \n",
      "1            0.211661 -639.549927  36.153034   6.020615   2.252873  -3.648098   \n",
      "2            0.203555 -514.030334  52.352474   1.688708  -3.347528  -9.164898   \n",
      "3            0.224783 -506.653687  45.819801  -2.089325  18.366461  -7.491622   \n",
      "4            0.175698 -375.294922  75.520187 -13.211298  11.790887 -19.265093   \n",
      "\n",
      "   ...    mfcc12    mfcc13    mfcc14    mfcc15    mfcc16    mfcc17    mfcc18  \\\n",
      "0  ... -7.349837 -3.652130 -4.253441 -5.470288 -3.452464 -3.349513 -1.499374   \n",
      "1  ... -3.044816 -2.013772 -1.361247 -3.493830 -3.453226 -1.724725 -0.815734   \n",
      "2  ... -5.833296 -4.842553 -5.305068  0.477596 -3.898500  0.124318 -1.315186   \n",
      "3  ... -9.514052 -1.988709 -5.471163 -0.866976 -4.227705 -2.284665  1.621064   \n",
      "4  ... -6.773306  2.127740 -6.686024  2.339199 -7.251548 -0.298748 -2.287788   \n",
      "\n",
      "     mfcc19    mfcc20  number  \n",
      "0 -3.100921  1.064034       3  \n",
      "1 -4.107770 -1.373948       3  \n",
      "2 -2.949817 -2.703465       3  \n",
      "3 -4.374322 -0.135026       3  \n",
      "4 -3.931647 -0.906793       3  \n",
      "\n",
      "[5 rows x 26 columns]\n",
      "caroline.csv will be preprocessed\n",
      "Preprocessing is finished\n",
      "       rmse  spectral_centroid  spectral_bandwidth      rolloff  \\\n",
      "0  0.096375        1310.184221         1361.055216  2465.986772   \n",
      "1  0.054473        1208.179121         1352.447917  2375.242246   \n",
      "2  0.068438        1204.442374         1316.533019  2243.892961   \n",
      "3  0.051508        1499.697475         1354.679601  2529.138040   \n",
      "4  0.037990        1460.307702         1511.822529  2785.887097   \n",
      "\n",
      "   zero_crossing_rate       mfcc1       mfcc2      mfcc3     mfcc4      mfcc5  \\\n",
      "0            0.076280 -357.319489   87.843346   0.605017 -4.883432  -7.429208   \n",
      "1            0.062277 -367.779266  108.406723   0.478103  8.585987  11.719452   \n",
      "2            0.067197 -386.879791  101.634163   9.609771  6.189548   5.291247   \n",
      "3            0.103286 -367.265778  111.014122 -28.897926  2.141744  16.371651   \n",
      "4            0.083564 -422.742859   84.019470   3.365743  4.187037   0.888020   \n",
      "\n",
      "   ...     mfcc12    mfcc13     mfcc14     mfcc15    mfcc16    mfcc17  \\\n",
      "0  ... -10.510137 -8.836707 -10.283078 -11.045340 -8.931784 -6.221998   \n",
      "1  ... -15.110497 -9.239577  -9.373765 -12.202996 -9.960604 -4.884587   \n",
      "2  ...  -8.258090 -9.235271 -10.005891 -11.031254 -8.588616 -6.701156   \n",
      "3  ... -15.770403 -5.684390  -7.286587 -11.180967 -6.967845 -3.457327   \n",
      "4  ...  -9.717978 -6.162052 -10.051086 -12.553514 -8.176461 -7.802153   \n",
      "\n",
      "     mfcc18    mfcc19    mfcc20  number  \n",
      "0 -7.555626 -5.845212 -5.315179       3  \n",
      "1 -1.675149  1.396603 -0.567448       3  \n",
      "2 -5.339180 -6.275792 -5.691220       3  \n",
      "3 -6.432244 -3.062480  0.849326       3  \n",
      "4 -6.087629 -3.196784 -4.681757       3  \n",
      "\n",
      "[5 rows x 26 columns]\n"
     ]
    }
   ],
   "source": [
    "#Reading a dataset and convert file name to corresbonding umnber\n",
    "\n",
    "import pandas as pd\n",
    "import csv\n",
    "from sklearn import preprocessing\n",
    "\n",
    "def preProcessData(csvFileName):\n",
    "    print(csvFileName+ \" will be preprocessed\")\n",
    "    data = pd.read_csv(csvFileName)\n",
    "    # we have three speakers: \n",
    "    # 0: Jackson\n",
    "    # 1: Nicolas \n",
    "    # 2: Theo\n",
    "    filenameArray = data['filename'] \n",
    "    speakerArray = []\n",
    "    #print(filenameArray)\n",
    "    for i in range(len(filenameArray)):\n",
    "        speaker = filenameArray[i][2]\n",
    "        #print(speaker)\n",
    "        if speaker == \"j\":\n",
    "            speaker = \"0\"\n",
    "        elif speaker == \"n\":\n",
    "            speaker = \"1\"\n",
    "        elif speaker == \"t\":\n",
    "            speaker = \"2\"\n",
    "        else: \n",
    "            speaker = \"3\"\n",
    "        #print(speaker)\n",
    "        speakerArray.append(speaker)\n",
    "    data['number'] = speakerArray\n",
    "    #Dropping unnecessary columns\n",
    "    data = data.drop(['filename'],axis=1)\n",
    "    data = data.drop(['label'],axis=1)\n",
    "    data = data.drop(['chroma_stft'],axis=1)\n",
    "    data.shape\n",
    "\n",
    "    print(\"Preprocessing is finished\")\n",
    "    print(data.head())\n",
    "    return data\n",
    "\n",
    "trainData = preProcessData(TRAIN_CSV_FILE)\n",
    "testData = preProcessData(TEST_CSV_FILE)\n",
    "rodolfoData = preProcessData(RODOLFO_CSV_FILE)\n",
    "ankurData = preProcessData(ANKUR_CSV_FILE)\n",
    "carolineData = preProcessData(CAROLINE_CSV_FILE)\n"
   ]
  },
  {
   "cell_type": "markdown",
   "metadata": {
    "colab_type": "text",
    "id": "GPbfaLTrap87"
   },
   "source": []
  },
  {
   "cell_type": "code",
   "execution_count": 4,
   "metadata": {
    "colab": {},
    "colab_type": "code",
    "id": "UEy6oG8RQmnN"
   },
   "outputs": [
    {
     "name": "stdout",
     "output_type": "stream",
     "text": [
      "(1029,)\n",
      "(441,)\n",
      "(30,)\n",
      "(20,)\n",
      "(10,)\n",
      "(20,)\n"
     ]
    }
   ],
   "source": [
    "# Splitting the dataset into training, validation and testing dataset\n",
    "from sklearn.model_selection import train_test_split\n",
    "X = np.array(trainData.iloc[:, :-1], dtype = float)\n",
    "y = trainData.iloc[:, -1]\n",
    "X_train, X_val, y_train, y_val = train_test_split(X, y, test_size=0.3)\n",
    "\n",
    "\n",
    "X_test = np.array(testData.iloc[:, :-1], dtype = float)\n",
    "y_test = testData.iloc[:, -1]\n",
    "\n",
    "X_rodolfo = np.array(rodolfoData.iloc[:, :-1], dtype = float)\n",
    "y_rodolfo = rodolfoData.iloc[:, -1]\n",
    "\n",
    "X_ankur = np.array(ankurData.iloc[:, :-1], dtype = float)\n",
    "y_ankur = ankurData.iloc[:, -1]\n",
    "\n",
    "X_caroline = np.array(carolineData.iloc[:, :-1], dtype = float)\n",
    "y_caroline = carolineData.iloc[:, -1]\n",
    "\n",
    "print(y_train.shape)\n",
    "print(y_val.shape)\n",
    "print(y_test.shape)\n",
    "print(y_rodolfo.shape)\n",
    "print(y_ankur.shape)\n",
    "print(y_caroline.shape)"
   ]
  },
  {
   "cell_type": "code",
   "execution_count": 5,
   "metadata": {
    "colab": {
     "base_uri": "https://localhost:8080/",
     "height": 34
    },
    "colab_type": "code",
    "id": "S1o-OccqP5Ax",
    "outputId": "c93e0d6f-f5c0-4208-b0e5-7ecba885cddc"
   },
   "outputs": [
    {
     "name": "stdout",
     "output_type": "stream",
     "text": [
      "(1029, 25)\n",
      "(441, 25)\n",
      "(30, 25)\n",
      "(20, 25)\n",
      "(10, 25)\n",
      "(20, 25)\n"
     ]
    }
   ],
   "source": [
    "#Normalizing the dataset\n",
    "from sklearn.preprocessing import StandardScaler\n",
    "import numpy as np\n",
    "scaler = StandardScaler()\n",
    "X_train = scaler.fit_transform( X_train )\n",
    "X_val = scaler.transform( X_val )\n",
    "X_test = scaler.transform( X_test )\n",
    "X_rodolfo = scaler.transform( X_rodolfo )\n",
    "X_ankur = scaler.transform( X_ankur )\n",
    "X_caroline = scaler.transform( X_caroline )\n",
    "\n",
    "print(X_train.shape)\n",
    "print(X_val.shape)\n",
    "print(X_test.shape)\n",
    "print(X_rodolfo.shape)\n",
    "print(X_ankur.shape)\n",
    "print(X_caroline.shape)\n"
   ]
  },
  {
   "cell_type": "code",
   "execution_count": 6,
   "metadata": {
    "colab": {
     "base_uri": "https://localhost:8080/",
     "height": 203
    },
    "colab_type": "code",
    "id": "Q06tYXcdQZFp",
    "outputId": "8ab73b51-7592-450c-b152-8746e2f11b87"
   },
   "outputs": [
    {
     "name": "stderr",
     "output_type": "stream",
     "text": [
      "Using TensorFlow backend.\n"
     ]
    }
   ],
   "source": [
    "#Creating a Model\n",
    "from keras import models\n",
    "from keras import layers\n",
    "import keras\n",
    "\n",
    "# model 1\n",
    "model = models.Sequential()\n",
    "model.add(layers.Dense(256, activation='relu', input_shape=(X_train.shape[1],)))\n",
    "model.add(layers.Dropout(0.5))\n",
    "model.add(layers.Dense(128, activation='relu'))\n",
    "model.add(layers.Dropout(0.5))\n",
    "model.add(layers.Dense(64, activation='relu'))\n",
    "model.add(layers.Dropout(0.5))\n",
    "model.add(layers.Dense(10, activation='softmax'))\n",
    "\n"
   ]
  },
  {
   "cell_type": "code",
   "execution_count": 7,
   "metadata": {
    "colab": {
     "base_uri": "https://localhost:8080/",
     "height": 106
    },
    "colab_type": "code",
    "id": "mJH2-yaTRHxV",
    "outputId": "bef3ccf8-289d-4202-bdc2-86f3b16d3bac"
   },
   "outputs": [],
   "source": [
    "# Learning Process of a model\n",
    "model.compile(optimizer='adam',\n",
    "              loss='sparse_categorical_crossentropy',\n",
    "              metrics=['accuracy'])\n"
   ]
  },
  {
   "cell_type": "code",
   "execution_count": 8,
   "metadata": {
    "colab": {},
    "colab_type": "code",
    "id": "fTcYgQO8Z5u-"
   },
   "outputs": [],
   "source": [
    "# simple early stopping\n",
    "from keras.callbacks import EarlyStopping\n",
    "\n",
    "es = EarlyStopping(monitor='val_loss', mode='min', verbose=1)"
   ]
  },
  {
   "cell_type": "code",
   "execution_count": 9,
   "metadata": {
    "colab": {
     "base_uri": "https://localhost:8080/",
     "height": 808
    },
    "colab_type": "code",
    "id": "iBDSdjwbaNzg",
    "outputId": "5c9ac6d9-a441-4fde-e157-803437bb0250"
   },
   "outputs": [
    {
     "name": "stdout",
     "output_type": "stream",
     "text": [
      "Train on 1029 samples, validate on 441 samples\n",
      "Epoch 1/50\n",
      "1029/1029 [==============================] - 0s 176us/step - loss: 2.0671 - accuracy: 0.2964 - val_loss: 1.3203 - val_accuracy: 0.6281\n",
      "Epoch 2/50\n",
      "1029/1029 [==============================] - 0s 32us/step - loss: 1.2821 - accuracy: 0.5821 - val_loss: 0.6835 - val_accuracy: 0.8753\n",
      "Epoch 3/50\n",
      "1029/1029 [==============================] - 0s 35us/step - loss: 0.7941 - accuracy: 0.7347 - val_loss: 0.2827 - val_accuracy: 0.9637\n",
      "Epoch 4/50\n",
      "1029/1029 [==============================] - 0s 36us/step - loss: 0.5237 - accuracy: 0.8397 - val_loss: 0.1191 - val_accuracy: 0.9751\n",
      "Epoch 5/50\n",
      "1029/1029 [==============================] - 0s 35us/step - loss: 0.3107 - accuracy: 0.8960 - val_loss: 0.0643 - val_accuracy: 0.9841\n",
      "Epoch 6/50\n",
      "1029/1029 [==============================] - 0s 34us/step - loss: 0.2349 - accuracy: 0.9291 - val_loss: 0.0442 - val_accuracy: 0.9864\n",
      "Epoch 7/50\n",
      "1029/1029 [==============================] - 0s 36us/step - loss: 0.1999 - accuracy: 0.9349 - val_loss: 0.0276 - val_accuracy: 0.9909\n",
      "Epoch 8/50\n",
      "1029/1029 [==============================] - 0s 32us/step - loss: 0.1552 - accuracy: 0.9514 - val_loss: 0.0201 - val_accuracy: 0.9932\n",
      "Epoch 9/50\n",
      "1029/1029 [==============================] - 0s 33us/step - loss: 0.1368 - accuracy: 0.9660 - val_loss: 0.0162 - val_accuracy: 0.9932\n",
      "Epoch 10/50\n",
      "1029/1029 [==============================] - 0s 34us/step - loss: 0.1098 - accuracy: 0.9689 - val_loss: 0.0143 - val_accuracy: 0.9955\n",
      "Epoch 11/50\n",
      "1029/1029 [==============================] - 0s 31us/step - loss: 0.1081 - accuracy: 0.9670 - val_loss: 0.0139 - val_accuracy: 0.9955\n",
      "Epoch 12/50\n",
      "1029/1029 [==============================] - 0s 36us/step - loss: 0.0777 - accuracy: 0.9747 - val_loss: 0.0135 - val_accuracy: 0.9955\n",
      "Epoch 13/50\n",
      "1029/1029 [==============================] - 0s 32us/step - loss: 0.0886 - accuracy: 0.9825 - val_loss: 0.0110 - val_accuracy: 0.9955\n",
      "Epoch 14/50\n",
      "1029/1029 [==============================] - 0s 36us/step - loss: 0.0756 - accuracy: 0.9825 - val_loss: 0.0080 - val_accuracy: 0.9977\n",
      "Epoch 15/50\n",
      "1029/1029 [==============================] - 0s 32us/step - loss: 0.0686 - accuracy: 0.9806 - val_loss: 0.0073 - val_accuracy: 0.9977\n",
      "Epoch 16/50\n",
      "1029/1029 [==============================] - 0s 36us/step - loss: 0.0757 - accuracy: 0.9776 - val_loss: 0.0070 - val_accuracy: 0.9977\n",
      "Epoch 17/50\n",
      "1029/1029 [==============================] - 0s 37us/step - loss: 0.0466 - accuracy: 0.9883 - val_loss: 0.0083 - val_accuracy: 0.9977\n",
      "Epoch 00017: early stopping\n"
     ]
    }
   ],
   "source": [
    "#Train with early stopping to avoid overfitting\n",
    "history = model.fit(X_train,\n",
    "                    y_train,\n",
    "                    validation_data=(X_val, y_val),\n",
    "                    epochs=50,\n",
    "                    batch_size=128, \n",
    "                    callbacks=[es])\n",
    "\n"
   ]
  },
  {
   "cell_type": "code",
   "execution_count": 10,
   "metadata": {
    "colab": {
     "base_uri": "https://localhost:8080/",
     "height": 267
    },
    "colab_type": "code",
    "id": "z3nvtYKVa5HD",
    "outputId": "b858b37f-8e47-4cb4-a737-ef960246254b"
   },
   "outputs": [
    {
     "data": {
      "image/png": "[encoded data removed]",
      "text/plain": [
       "<Figure size 432x288 with 1 Axes>"
      ]
     },
     "metadata": {
      "needs_background": "light"
     },
     "output_type": "display_data"
    }
   ],
   "source": [
    "# plot training history\n",
    "from matplotlib import pyplot\n",
    "pyplot.plot(history.history['loss'], label='train')\n",
    "pyplot.plot(history.history['val_loss'], label='test')\n",
    "pyplot.legend()\n",
    "pyplot.show()"
   ]
  },
  {
   "cell_type": "code",
   "execution_count": 11,
   "metadata": {
    "colab": {
     "base_uri": "https://localhost:8080/",
     "height": 86
    },
    "colab_type": "code",
    "id": "HSVxu84pRgZa",
    "outputId": "eb9242c9-7bff-4d54-a58c-60a915aad7d2"
   },
   "outputs": [
    {
     "name": "stdout",
     "output_type": "stream",
     "text": [
      "\n",
      "# TEST DATA #\n",
      "\n",
      "30/30 [==============================] - 0s 33us/step\n",
      "accuracy: 100.00%\n",
      "\n",
      "# Generate predictions for 3 samples\n",
      "y[0]: 0\n",
      "y[10]: 1\n",
      "y[20]: 2\n",
      "[0]\n",
      "[1]\n",
      "[2]\n"
     ]
    }
   ],
   "source": [
    "print('\\n# TEST DATA #\\n')\n",
    "score = model.evaluate(X_test, y_test)\n",
    "print(\"%s: %.2f%%\" % (model.metrics_names[1], score[1]*100))\n",
    "\n",
    "# Predection \n",
    "print('\\n# Generate predictions for 3 samples')\n",
    "\n",
    "print(\"y[0]: \"+ y_test[0])\n",
    "print(\"y[10]: \"+ y_test[10])\n",
    "print(\"y[20]: \"+ y_test[20])\n",
    "\n",
    "print(model.predict_classes(X_test[0:1]))\n",
    "print(model.predict_classes(X_test[10:11]))\n",
    "print(model.predict_classes(X_test[20:21]))\n"
   ]
  },
  {
   "cell_type": "code",
   "execution_count": 12,
   "metadata": {},
   "outputs": [
    {
     "name": "stdout",
     "output_type": "stream",
     "text": [
      "\n",
      "# RODOLFO DATA #\n",
      "\n",
      "20/20 [==============================] - 0s 50us/step\n",
      "accuracy: 0.00%\n",
      "\n",
      "# Generate predictions for 3 samples\n",
      "y[0]: 3\n",
      "y[5]: 3\n",
      "y[15]: 3\n",
      "[0]\n",
      "[0]\n",
      "[0]\n"
     ]
    }
   ],
   "source": [
    "print('\\n# RODOLFO DATA #\\n')\n",
    "score = model.evaluate(X_rodolfo, y_rodolfo)\n",
    "print(\"%s: %.2f%%\" % (model.metrics_names[1], score[1]*100))\n",
    "\n",
    "# Predection \n",
    "print('\\n# Generate predictions for 3 samples')\n",
    "\n",
    "print(\"y[0]: \"+ y_rodolfo[0])\n",
    "print(\"y[5]: \"+ y_rodolfo[5])\n",
    "print(\"y[15]: \"+ y_rodolfo[15])\n",
    "\n",
    "print(model.predict_classes(X_rodolfo[0:1]))\n",
    "print(model.predict_classes(X_rodolfo[5:6]))\n",
    "print(model.predict_classes(X_rodolfo[15:16]))"
   ]
  },
  {
   "cell_type": "code",
   "execution_count": 13,
   "metadata": {},
   "outputs": [
    {
     "name": "stdout",
     "output_type": "stream",
     "text": [
      "\n",
      "# ANKUR DATA #\n",
      "\n",
      "10/10 [==============================] - 0s 100us/step\n",
      "accuracy: 0.00%\n",
      "\n",
      "# Generate predictions for 3 samples\n",
      "y[0]: 3\n",
      "y[5]: 3\n",
      "y[8]: 3\n",
      "[0]\n",
      "[0]\n",
      "[0]\n"
     ]
    }
   ],
   "source": [
    "print('\\n# ANKUR DATA #\\n')\n",
    "score = model.evaluate(X_ankur, y_ankur)\n",
    "print(\"%s: %.2f%%\" % (model.metrics_names[1], score[1]*100))\n",
    "\n",
    "# Predection \n",
    "print('\\n# Generate predictions for 3 samples')\n",
    "\n",
    "print(\"y[0]: \"+ y_ankur[0])\n",
    "print(\"y[5]: \"+ y_ankur[5])\n",
    "print(\"y[8]: \"+ y_ankur[8])\n",
    "\n",
    "print(model.predict_classes(X_ankur[0:1]))\n",
    "print(model.predict_classes(X_ankur[5:6]))\n",
    "print(model.predict_classes(X_ankur[8:9]))"
   ]
  },
  {
   "cell_type": "code",
   "execution_count": 14,
   "metadata": {},
   "outputs": [
    {
     "name": "stdout",
     "output_type": "stream",
     "text": [
      "\n",
      "# CAROLINE DATA #\n",
      "\n",
      "20/20 [==============================] - 0s 100us/step\n",
      "accuracy: 0.00%\n",
      "\n",
      "# Generate predictions for 3 samples\n",
      "y[0]: 3\n",
      "y[5]: 3\n",
      "y[8]: 3\n",
      "[0]\n",
      "[0]\n",
      "[0]\n"
     ]
    }
   ],
   "source": [
    "print('\\n# CAROLINE DATA #\\n')\n",
    "score = model.evaluate(X_caroline, y_caroline)\n",
    "print(\"%s: %.2f%%\" % (model.metrics_names[1], score[1]*100))\n",
    "\n",
    "# Predection \n",
    "print('\\n# Generate predictions for 3 samples')\n",
    "\n",
    "print(\"y[0]: \"+ y_caroline[0])\n",
    "print(\"y[5]: \"+ y_caroline[5])\n",
    "print(\"y[8]: \"+ y_caroline[8])\n",
    "\n",
    "print(model.predict_classes(X_caroline[0:1]))\n",
    "print(model.predict_classes(X_caroline[5:6]))\n",
    "print(model.predict_classes(X_caroline[8:9]))"
   ]
  },
  {
   "cell_type": "code",
   "execution_count": null,
   "metadata": {},
   "outputs": [],
   "source": []
  }
 ],
 "metadata": {
  "accelerator": "GPU",
  "colab": {
   "name": "sound-regnize-Keras.ipynb",
   "provenance": []
  },
  "kernelspec": {
   "display_name": "Python 3",
   "language": "python",
   "name": "python3"
  },
  "language_info": {
   "codemirror_mode": {
    "name": "ipython",
    "version": 3
   },
   "file_extension": ".py",
   "mimetype": "text/x-python",
   "name": "python",
   "nbconvert_exporter": "python",
   "pygments_lexer": "ipython3",
   "version": "3.6.8"
  }
 },
 "nbformat": 4,
 "nbformat_minor": 1
}
